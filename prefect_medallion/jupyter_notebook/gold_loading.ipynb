{
 "cells": [
  {
   "cell_type": "markdown",
   "metadata": {},
   "source": [
    "## Library Import"
   ]
  },
  {
   "cell_type": "code",
   "execution_count": 1,
   "metadata": {},
   "outputs": [],
   "source": [
    "import duckdb\n",
    "import polars as pl\n",
    "import dotenv\n",
    "import os\n",
    "import sys\n",
    "sys.path.append(os.path.dirname(os.path.dirname(os.path.abspath('__file__'))))\n",
    "from config import load_setting\n",
    "settings = load_setting()\n",
    "import pandas as pd\n",
    "from tools.redis_client import RedisTools"
   ]
  },
  {
   "cell_type": "markdown",
   "metadata": {},
   "source": [
    "## Load Gold Data"
   ]
  },
  {
   "cell_type": "code",
   "execution_count": null,
   "metadata": {},
   "outputs": [
    {
     "name": "stdout",
     "output_type": "stream",
     "text": [
      "Attempting to connect to: process/storage/gold/gold_picks.parquet\n",
      "Connection Successful!\n",
      "Test query result: shape: (1_256, 5)\n",
      "┌────────────────────┬────────────────────┬────────────────────┬────────────────────┬──────────────┐\n",
      "│ accelerating       ┆ long_accelerating  ┆ long_accumulating  ┆ velocity_maintaine ┆ date         │\n",
      "│ ---                ┆ ---                ┆ ---                ┆ d                  ┆ ---          │\n",
      "│ list[str]          ┆ list[str]          ┆ list[str]          ┆ ---                ┆ list[date]   │\n",
      "│                    ┆                    ┆                    ┆ list[str]          ┆              │\n",
      "╞════════════════════╪════════════════════╪════════════════════╪════════════════════╪══════════════╡\n",
      "│ [\"CBNK\", \"LZ\", …   ┆ [\"SEIC\", \"CPF\", …  ┆ [\"CPF\", \"LNKB\", …  ┆ [\"SO\", \"NC\", …     ┆ [2025-06-27] │\n",
      "│ \"HSAI\"]            ┆ \"AZZ\"]             ┆ \"AZZ\"]             ┆ \"HWM\"]             ┆              │\n",
      "│ [\"LRN\", \"GOOS\", …  ┆ [\"QRVO\", \"COMM\", … ┆ [\"QRVO\", \"KNSL\", … ┆ [\"WSBF\", \"SMBK\", … ┆ [2025-06-26] │\n",
      "│ \"RHLD\"]            ┆ \"CNEY\"]            ┆ \"RAVE\"]            ┆ \"T\"]               ┆              │\n",
      "│ [\"NXTT\", \"TSBK\", … ┆ [\"ACOG\", \"AMP\", …  ┆ [\"AVAH\", \"CP\", …   ┆ [\"BKNG\", \"ONCO\", … ┆ [2025-06-25] │\n",
      "│ \"ERIC\"]            ┆ \"EQNR\"]            ┆ \"JBGS\"]            ┆ \"MELI\"]            ┆              │\n",
      "│ [\"GDEV\", \"PODD\", … ┆ [\"AEE\", \"NVTS\", …  ┆ [\"AEE\", \"RCKY\", …  ┆ [\"DAKT\", \"THC\", …  ┆ [2025-06-24] │\n",
      "│ \"TRMB\"]            ┆ \"LOGI\"]            ┆ \"LOGI\"]            ┆ \"PHLT\"]            ┆              │\n",
      "│ [\"MANU\", \"RR\", …   ┆ [\"FFIN\", \"F\", …    ┆ [\"F\", \"TBMC\", …    ┆ [\"DY\", \"ALNT\", …   ┆ [2025-06-23] │\n",
      "│ \"UNTY\"]            ┆ \"RAMP\"]            ┆ \"RAMP\"]            ┆ \"AWR\"]             ┆              │\n",
      "│ …                  ┆ …                  ┆ …                  ┆ …                  ┆ …            │\n",
      "│ [\"HUIZ\", \"MSM\", …  ┆ [\"NEON\", \"HTHT\", … ┆ [\"VVX\", \"SPRU\", …  ┆ [\"AAOI\", \"LZB\", …  ┆ [2020-07-06] │\n",
      "│ \"ITW\"]             ┆ \"JNJ\"]             ┆ \"PINE\"]            ┆ \"PUK\"]             ┆              │\n",
      "│ [\"LPTH\", \"CHW\", …  ┆ [\"TURN\", \"OR\", …   ┆ [\"OR\", \"LEGN\", …   ┆ [\"PODD\", \"CENT\", … ┆ [2020-07-02] │\n",
      "│ \"BCYC\"]            ┆ \"EGO\"]             ┆ \"OCSL\"]            ┆ \"EQT\"]             ┆              │\n",
      "│ [\"MSCI\", \"DUOT\", … ┆ [\"LAKE\", \"DRS\", …  ┆ [\"OCFCP\", \"AYTU\",  ┆ [\"BIO\", \"FORM\", …  ┆ [2020-07-01] │\n",
      "│ \"AACG\"]            ┆ \"MTD\"]             ┆ … \"DVA\"]           ┆ \"PDEX\"]            ┆              │\n",
      "│ [\"AMSC\", \"CYTK\", … ┆ [\"STT\", \"JOYY\", …  ┆ [\"AVDL\", \"WINA\", … ┆ [\"CRMT\", \"CMC\", …  ┆ [2020-06-30] │\n",
      "│ \"AR\"]              ┆ \"MED\"]             ┆ \"ADN\"]             ┆ \"GNRC\"]            ┆              │\n",
      "│ [\"CVCO\", \"CLX\", …  ┆ [\"WLKP\", \"KPLT\", … ┆ [\"XOMA\", \"KPLT\", … ┆ [\"TRUP\", \"NYT\", …  ┆ [2020-06-29] │\n",
      "│ \"MMM\"]             ┆ \"FORD\"]            ┆ \"ARCB\"]            ┆ \"RTO\"]             ┆              │\n",
      "└────────────────────┴────────────────────┴────────────────────┴────────────────────┴──────────────┘\n"
     ]
    }
   ],
   "source": [
    "# Test connection to Gold Data parquet file\n",
    "try:\n",
    "    parquet_path = settings['process']['gold_path']\n",
    "    print(f\"Attempting to connect to: {parquet_path}/gold_picks.parquet\")\n",
    "    # Test Connection with a simple query\n",
    "    pl_df = pl.read_parquet(f\"../{parquet_path}/gold_picks.parquet\")\n",
    "    pl_df = pl_df.sort([\"date\"], descending=True)\n",
    "    print(\"Connection Successful!\")\n",
    "    print(f\"Test query result: {pl_df}\")\n",
    "    \n",
    "except FileNotFoundError as e:\n",
    "    print(f\"File not found: {str(e)}\")\n",
    "except Exception as e:\n",
    "    print(f\"Connection Failed: {str(e)}\")"
   ]
  },
  {
   "cell_type": "code",
   "execution_count": null,
   "metadata": {},
   "outputs": [
    {
     "name": "stdout",
     "output_type": "stream",
     "text": [
      "Attempting to connect to: process/storage/gold/gold.parquet\n",
      "Connection Successful!\n",
      "Test query result: shape: (55_328_507, 5)\n",
      "┌────────┬────────────┬──────────┬────────────────┬──────────────────────┐\n",
      "│ symbol ┆ date       ┆ interval ┆ alert_type     ┆ signal               │\n",
      "│ ---    ┆ ---        ┆ ---      ┆ ---            ┆ ---                  │\n",
      "│ str    ┆ date       ┆ i32      ┆ str            ┆ str                  │\n",
      "╞════════╪════════════╪══════════╪════════════════╪══════════════════════╡\n",
      "│ A      ┆ 2025-06-27 ┆ 1        ┆ velocity_alert ┆ velocity_negotiating │\n",
      "│ AA     ┆ 2025-06-27 ┆ 1        ┆ velocity_alert ┆ velocity_loss        │\n",
      "│ AACB   ┆ 2025-06-27 ┆ 1        ┆ velocity_alert ┆ velocity_weak        │\n",
      "│ AACG   ┆ 2025-06-27 ┆ 1        ┆ velocity_alert ┆ velocity_loss        │\n",
      "│ AACT   ┆ 2025-06-27 ┆ 1        ┆ velocity_alert ┆ velocity_weak        │\n",
      "│ …      ┆ …          ┆ …        ┆ …              ┆ …                    │\n",
      "│ ZION   ┆ 2020-06-29 ┆ 13       ┆ ema_touch      ┆ resistance           │\n",
      "│ ZTS    ┆ 2020-06-29 ┆ 13       ┆ ema_touch      ┆ support              │\n",
      "│ ZUMZ   ┆ 2020-06-29 ┆ 13       ┆ ema_touch      ┆ support              │\n",
      "│ ZWS    ┆ 2020-06-29 ┆ 13       ┆ ema_touch      ┆ neutral              │\n",
      "│ ZYME   ┆ 2020-06-29 ┆ 13       ┆ ema_touch      ┆ support              │\n",
      "└────────┴────────────┴──────────┴────────────────┴──────────────────────┘\n"
     ]
    }
   ],
   "source": [
    "# Test connection to Gold Data parquet file\n",
    "try:\n",
    "    parquet_path = settings['process']['gold_path']\n",
    "    print(f\"Attempting to connect to: {parquet_path}/gold.parquet\")\n",
    "    # Test Connection with a simple query\n",
    "    pl_df = pl.read_parquet(f\"../{parquet_path}/gold.parquet\")\n",
    "    pl_df = pl_df.sort([\"date\"], descending=True)\n",
    "    print(\"Connection Successful!\")\n",
    "    print(f\"Test query result: {pl_df}\")\n",
    "    \n",
    "except FileNotFoundError as e:\n",
    "    print(f\"File not found: {str(e)}\")\n",
    "except Exception as e:\n",
    "    print(f\"Connection Failed: {str(e)}\")"
   ]
  },
  {
   "cell_type": "code",
   "execution_count": 6,
   "metadata": {},
   "outputs": [
    {
     "ename": "ColumnNotFoundError",
     "evalue": "long_accelerating\n\nResolved plan until failure:\n\n\t---> FAILED HERE RESOLVING 'sink' <---\nDF [\"symbol\", \"date\", \"interval\", \"alert_type\", ...]; PROJECT */5 COLUMNS",
     "output_type": "error",
     "traceback": [
      "\u001b[0;31m---------------------------------------------------------------------------\u001b[0m",
      "\u001b[0;31mColumnNotFoundError\u001b[0m                       Traceback (most recent call last)",
      "Cell \u001b[0;32mIn[6], line 2\u001b[0m\n\u001b[1;32m      1\u001b[0m \u001b[38;5;66;03m# Get the last row of the gold data\u001b[39;00m\n\u001b[0;32m----> 2\u001b[0m \u001b[43mpl_df\u001b[49m\u001b[38;5;241;43m.\u001b[39;49m\u001b[43mhead\u001b[49m\u001b[43m(\u001b[49m\u001b[38;5;241;43m1\u001b[39;49m\u001b[43m)\u001b[49m\u001b[38;5;241;43m.\u001b[39;49m\u001b[43mselect\u001b[49m\u001b[43m(\u001b[49m\u001b[43m[\u001b[49m\u001b[38;5;124;43m'\u001b[39;49m\u001b[38;5;124;43mlong_accelerating\u001b[39;49m\u001b[38;5;124;43m'\u001b[39;49m\u001b[43m]\u001b[49m\u001b[43m)\u001b[49m\u001b[38;5;241m.\u001b[39mto_dicts()[\u001b[38;5;241m0\u001b[39m][\u001b[38;5;124m'\u001b[39m\u001b[38;5;124mlong_accelerating\u001b[39m\u001b[38;5;124m'\u001b[39m]\n",
      "File \u001b[0;32m~/Documents/Projects/condvest/data_pipeline/.dp/lib/python3.10/site-packages/polars/dataframe/frame.py:9657\u001b[0m, in \u001b[0;36mDataFrame.select\u001b[0;34m(self, *exprs, **named_exprs)\u001b[0m\n\u001b[1;32m   9557\u001b[0m \u001b[38;5;28;01mdef\u001b[39;00m\u001b[38;5;250m \u001b[39m\u001b[38;5;21mselect\u001b[39m(\n\u001b[1;32m   9558\u001b[0m     \u001b[38;5;28mself\u001b[39m, \u001b[38;5;241m*\u001b[39mexprs: IntoExpr \u001b[38;5;241m|\u001b[39m Iterable[IntoExpr], \u001b[38;5;241m*\u001b[39m\u001b[38;5;241m*\u001b[39mnamed_exprs: IntoExpr\n\u001b[1;32m   9559\u001b[0m ) \u001b[38;5;241m-\u001b[39m\u001b[38;5;241m>\u001b[39m DataFrame:\n\u001b[1;32m   9560\u001b[0m \u001b[38;5;250m    \u001b[39m\u001b[38;5;124;03m\"\"\"\u001b[39;00m\n\u001b[1;32m   9561\u001b[0m \u001b[38;5;124;03m    Select columns from this DataFrame.\u001b[39;00m\n\u001b[1;32m   9562\u001b[0m \n\u001b[0;32m   (...)\u001b[0m\n\u001b[1;32m   9655\u001b[0m \u001b[38;5;124;03m    └──────────────┘\u001b[39;00m\n\u001b[1;32m   9656\u001b[0m \u001b[38;5;124;03m    \"\"\"\u001b[39;00m\n\u001b[0;32m-> 9657\u001b[0m     \u001b[38;5;28;01mreturn\u001b[39;00m \u001b[38;5;28;43mself\u001b[39;49m\u001b[38;5;241;43m.\u001b[39;49m\u001b[43mlazy\u001b[49m\u001b[43m(\u001b[49m\u001b[43m)\u001b[49m\u001b[38;5;241;43m.\u001b[39;49m\u001b[43mselect\u001b[49m\u001b[43m(\u001b[49m\u001b[38;5;241;43m*\u001b[39;49m\u001b[43mexprs\u001b[49m\u001b[43m,\u001b[49m\u001b[43m \u001b[49m\u001b[38;5;241;43m*\u001b[39;49m\u001b[38;5;241;43m*\u001b[39;49m\u001b[43mnamed_exprs\u001b[49m\u001b[43m)\u001b[49m\u001b[38;5;241;43m.\u001b[39;49m\u001b[43mcollect\u001b[49m\u001b[43m(\u001b[49m\u001b[43m_eager\u001b[49m\u001b[38;5;241;43m=\u001b[39;49m\u001b[38;5;28;43;01mTrue\u001b[39;49;00m\u001b[43m)\u001b[49m\n",
      "File \u001b[0;32m~/Documents/Projects/condvest/data_pipeline/.dp/lib/python3.10/site-packages/polars/_utils/deprecation.py:93\u001b[0m, in \u001b[0;36mdeprecate_streaming_parameter.<locals>.decorate.<locals>.wrapper\u001b[0;34m(*args, **kwargs)\u001b[0m\n\u001b[1;32m     89\u001b[0m         kwargs[\u001b[38;5;124m\"\u001b[39m\u001b[38;5;124mengine\u001b[39m\u001b[38;5;124m\"\u001b[39m] \u001b[38;5;241m=\u001b[39m \u001b[38;5;124m\"\u001b[39m\u001b[38;5;124min-memory\u001b[39m\u001b[38;5;124m\"\u001b[39m\n\u001b[1;32m     91\u001b[0m     \u001b[38;5;28;01mdel\u001b[39;00m kwargs[\u001b[38;5;124m\"\u001b[39m\u001b[38;5;124mstreaming\u001b[39m\u001b[38;5;124m\"\u001b[39m]\n\u001b[0;32m---> 93\u001b[0m \u001b[38;5;28;01mreturn\u001b[39;00m \u001b[43mfunction\u001b[49m\u001b[43m(\u001b[49m\u001b[38;5;241;43m*\u001b[39;49m\u001b[43margs\u001b[49m\u001b[43m,\u001b[49m\u001b[43m \u001b[49m\u001b[38;5;241;43m*\u001b[39;49m\u001b[38;5;241;43m*\u001b[39;49m\u001b[43mkwargs\u001b[49m\u001b[43m)\u001b[49m\n",
      "File \u001b[0;32m~/Documents/Projects/condvest/data_pipeline/.dp/lib/python3.10/site-packages/polars/lazyframe/frame.py:2224\u001b[0m, in \u001b[0;36mLazyFrame.collect\u001b[0;34m(self, type_coercion, _type_check, predicate_pushdown, projection_pushdown, simplify_expression, slice_pushdown, comm_subplan_elim, comm_subexpr_elim, cluster_with_columns, collapse_joins, no_optimization, engine, background, _check_order, _eager, **_kwargs)\u001b[0m\n\u001b[1;32m   2222\u001b[0m \u001b[38;5;66;03m# Only for testing purposes\u001b[39;00m\n\u001b[1;32m   2223\u001b[0m callback \u001b[38;5;241m=\u001b[39m _kwargs\u001b[38;5;241m.\u001b[39mget(\u001b[38;5;124m\"\u001b[39m\u001b[38;5;124mpost_opt_callback\u001b[39m\u001b[38;5;124m\"\u001b[39m, callback)\n\u001b[0;32m-> 2224\u001b[0m \u001b[38;5;28;01mreturn\u001b[39;00m wrap_df(\u001b[43mldf\u001b[49m\u001b[38;5;241;43m.\u001b[39;49m\u001b[43mcollect\u001b[49m\u001b[43m(\u001b[49m\u001b[43mengine\u001b[49m\u001b[43m,\u001b[49m\u001b[43m \u001b[49m\u001b[43mcallback\u001b[49m\u001b[43m)\u001b[49m)\n",
      "\u001b[0;31mColumnNotFoundError\u001b[0m: long_accelerating\n\nResolved plan until failure:\n\n\t---> FAILED HERE RESOLVING 'sink' <---\nDF [\"symbol\", \"date\", \"interval\", \"alert_type\", ...]; PROJECT */5 COLUMNS"
     ]
    }
   ],
   "source": [
    "# Get the last row of the gold data\n",
    "pl_df.head(1).select(['long_accelerating']).to_dicts()[0]['long_accelerating']"
   ]
  },
  {
   "cell_type": "code",
   "execution_count": 7,
   "metadata": {},
   "outputs": [
    {
     "data": {
      "text/plain": [
       "['accelerating',\n",
       " 'long_accelerating',\n",
       " 'long_accumulating',\n",
       " 'velocity_maintained',\n",
       " 'date']"
      ]
     },
     "execution_count": 7,
     "metadata": {},
     "output_type": "execute_result"
    }
   ],
   "source": [
    "# Get all strategies from the gold data\n",
    "pl_df.columns"
   ]
  },
  {
   "cell_type": "code",
   "execution_count": 10,
   "metadata": {},
   "outputs": [
    {
     "name": "stdout",
     "output_type": "stream",
     "text": [
      "Gold data file size: 2.92 MB\n",
      "Number of rows: 1255\n",
      "Number of columns: 5\n"
     ]
    }
   ],
   "source": [
    "# Get the size of the gold data\n",
    "# Get file size in bytes\n",
    "file_size_bytes = os.path.getsize(f\"../{settings['process']['gold_path']}/gold_picks.parquet\")\n",
    "\n",
    "# Convert to more readable format\n",
    "def convert_size(size_bytes):\n",
    "    \"\"\"Convert bytes to human readable format\"\"\"\n",
    "    for unit in ['B', 'KB', 'MB', 'GB']:\n",
    "        if size_bytes < 1024.0:\n",
    "            return f\"{size_bytes:.2f} {unit}\"\n",
    "        size_bytes /= 1024.0\n",
    "    return f\"{size_bytes:.2f} GB\"\n",
    "\n",
    "print(f\"Gold data file size: {convert_size(file_size_bytes)}\")\n",
    "print(f\"Number of rows: {len(pl_df)}\")\n",
    "print(f\"Number of columns: {len(pl_df.columns)}\")\n"
   ]
  },
  {
   "cell_type": "markdown",
   "metadata": {},
   "source": [
    "## Cache to Redis"
   ]
  },
  {
   "cell_type": "markdown",
   "metadata": {},
   "source": [
    "### Cache Stock of the Day"
   ]
  },
  {
   "cell_type": "code",
   "execution_count": 5,
   "metadata": {},
   "outputs": [
    {
     "name": "stdout",
     "output_type": "stream",
     "text": [
      "Successfully connected to Redis!\n",
      "['BLK', 'CHT', 'VATE', 'VKTX', 'CHY', 'CI', 'CHWY', 'FMS', 'NVMI', 'ABT', 'DSGX', 'KEN', 'ZG', 'AMP', 'ALRM', 'AMD', 'META', 'VIRT', 'ZBRA', 'AAON', 'HASI', 'SCL', 'PRGO', 'DKL', 'TAL', 'SWTX', 'DQ', 'APDN', 'BILI', 'CLW', 'VEEV', 'DRS', 'MBOT', 'NVAX', 'JD', 'FITBI', 'SCPH', 'CHPT', 'ANGI', 'CLLS', 'AAPL', 'MHLD', 'HMC', 'FR', 'BL', 'VERI', 'SCNX', 'IZEA', 'JOUT', 'AMRC', 'SFIX', 'XYZ', 'POWI', 'AAMI', 'FI', 'YUMC', 'ALTS', 'APD', 'FFIV', 'DT', 'TAK', 'DGX', 'YEXT', 'SBAC', 'VHC', 'VIVK', 'BLD', 'FMC', 'AMAT', 'SCNI', 'FF', 'FOLD', 'VIR', 'BIPC', 'MDB', 'VIVS', 'MBUU', 'TEL', 'DOMO', 'AMPH', 'MGNX', 'MCRI', 'ABUS', 'PODD', 'SYRE', 'NTES', 'SCCO', 'DOCU', 'TER', 'TFX', 'FLWS', 'BMY', 'HLF', 'MCK', 'SGRY', 'BLFS', 'TEAM', 'ZWS', 'SDGR', 'PRAA', 'VRNS', 'POWW', 'AMT', 'DKNG', 'K', 'MEIP', 'AMCR', 'TBPH', 'DRD', 'AMH', 'BLDP', 'ZTO', 'PRI', 'BKYI', 'PLD', 'ZM', 'AAP', 'JNPR', 'ADBE', 'VC', 'XYLO', 'ACM', 'NTLA', 'CLWT', 'CLS', 'BMRN', 'ACN', 'JOYY', 'ANSS', 'DLHC', 'DNLI', 'VCYT', 'CLDX', 'PLXS', 'MCO', 'BILL', 'MCFT', 'AME', 'KAI', 'PMTS', 'HCI', 'MC', 'CMI', 'AMBA', 'ZYXI', 'VRT', 'ANET', 'BMI', 'PROF', 'BIO', 'NXE', 'PKG', 'HMY', 'JHX', 'SEDG', 'VRME', 'MED', 'MHO', 'BLDR', 'KALA', 'AMTX', 'HOLX', 'SYK', 'HDSN', 'TFII', 'VRTX', 'MBRX', 'ZS', 'ITRM', 'SE', 'Z', 'CHRS', 'YMAB', 'SGMO', 'SAP', 'ACHC', 'HL', 'TECX', 'NSC', 'SBSW', 'ADAP', 'MCHP', 'KBH', 'VNET', 'AMSC', 'ANY', 'DKS', 'CHI', 'DOOO', 'MESO', 'SFM', 'PRGS', 'NTCT', 'BHP', 'TEVA', 'ADSK', 'NUS', 'FLGT', 'NRG', 'ADI', 'DVAX', 'PLUG', 'FICO', 'BLK', 'CHT', 'VATE', 'VKTX', 'CHY', 'CI', 'CHWY', 'FMS', 'NVMI', 'ABT', 'DSGX', 'KEN', 'ZG', 'AMP', 'ALRM', 'AMD', 'META', 'VIRT', 'ZBRA', 'AAON', 'HASI', 'SCL', 'PRGO', 'DKL', 'TAL', 'SWTX', 'DQ', 'APDN', 'BILI', 'CLW', 'VEEV', 'DRS', 'MBOT', 'NVAX', 'JD', 'FITBI', 'SCPH', 'CHPT', 'ANGI', 'CLLS', 'AAPL', 'MHLD', 'HMC', 'FR', 'BL', 'VERI', 'SCNX', 'IZEA', 'JOUT', 'AMRC', 'SFIX', 'XYZ', 'POWI', 'AAMI', 'FI', 'YUMC', 'ALTS', 'APD', 'FFIV', 'DT', 'TAK', 'DGX', 'YEXT', 'SBAC', 'VHC', 'VIVK', 'BLD', 'FMC', 'AMAT', 'SCNI', 'FF', 'FOLD', 'VIR', 'BIPC', 'MDB', 'VIVS', 'MBUU', 'TEL', 'DOMO', 'AMPH', 'MGNX', 'MCRI', 'ABUS', 'PODD', 'SYRE', 'NTES', 'SCCO', 'DOCU', 'TER', 'TFX', 'FLWS', 'BMY', 'HLF', 'MCK', 'SGRY', 'BLFS', 'TEAM', 'ZWS', 'SDGR', 'PRAA', 'VRNS', 'POWW', 'AMT', 'DKNG', 'K', 'MEIP', 'AMCR', 'TBPH', 'DRD', 'AMH', 'BLDP', 'ZTO', 'PRI', 'BKYI', 'PLD', 'ZM', 'AAP', 'JNPR', 'ADBE', 'VC', 'XYLO', 'ACM', 'NTLA', 'CLWT', 'CLS', 'BMRN', 'ACN', 'JOYY', 'ANSS', 'DLHC', 'DNLI', 'VCYT', 'CLDX', 'PLXS', 'MCO', 'BILL', 'MCFT', 'AME', 'KAI', 'PMTS', 'HCI', 'MC', 'CMI', 'AMBA', 'ZYXI', 'VRT', 'ANET', 'BMI', 'PROF', 'BIO', 'NXE', 'PKG', 'HMY', 'JHX', 'SEDG', 'VRME', 'MED', 'MHO', 'BLDR', 'KALA', 'AMTX', 'HOLX', 'SYK', 'HDSN', 'TFII', 'VRTX', 'MBRX', 'ZS', 'ITRM', 'SE', 'Z', 'CHRS', 'YMAB', 'SGMO', 'SAP', 'ACHC', 'HL', 'TECX', 'NSC', 'SBSW', 'ADAP', 'MCHP', 'KBH', 'VNET', 'AMSC', 'ANY', 'DKS', 'CHI', 'DOOO', 'MESO', 'SFM', 'PRGS', 'NTCT', 'BHP', 'TEVA', 'ADSK', 'NUS', 'FLGT', 'NRG', 'ADI', 'DVAX', 'PLUG', 'FICO']\n",
      "406\n"
     ]
    }
   ],
   "source": [
    "# Get the last row of the gold data\n",
    "veggas_channel_pick  = pl_df.tail(1).select([\"long_accelerating\"]).to_dicts()[0][\"long_accelerating\"]\n",
    "\n",
    "# Cache long-accelerating to Redis\n",
    "redis_client = RedisTools()\n",
    "redis_client.rpush(\"veggas_channel_pick\", *veggas_channel_pick)\n",
    "\n",
    "# Get long-accelerating from Redis\n",
    "veggas_channel_pick = redis_client.lrange(\"veggas_channel_pick\", 0, -1)\n",
    "print(veggas_channel_pick)\n",
    "print(len(veggas_channel_pick))"
   ]
  }
 ],
 "metadata": {
  "kernelspec": {
   "display_name": ".dp",
   "language": "python",
   "name": "python3"
  },
  "language_info": {
   "codemirror_mode": {
    "name": "ipython",
    "version": 3
   },
   "file_extension": ".py",
   "mimetype": "text/x-python",
   "name": "python",
   "nbconvert_exporter": "python",
   "pygments_lexer": "ipython3",
   "version": "3.10.16"
  }
 },
 "nbformat": 4,
 "nbformat_minor": 2
}
