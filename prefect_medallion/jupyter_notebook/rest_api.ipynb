{
 "cells": [
  {
   "cell_type": "markdown",
   "metadata": {},
   "source": [
    "# Library"
   ]
  },
  {
   "cell_type": "code",
   "execution_count": 1,
   "metadata": {},
   "outputs": [],
   "source": [
    "# api.py\n",
    "import duckdb\n",
    "from fastapi import FastAPI, Query\n",
    "from pydantic import BaseModel, RootModel\n",
    "from typing import List, Any\n"
   ]
  },
  {
   "cell_type": "markdown",
   "metadata": {},
   "source": [
    "# Fast API Wrapper"
   ]
  },
  {
   "cell_type": "markdown",
   "metadata": {},
   "source": [
    "## Resampled Data Request"
   ]
  },
  {
   "cell_type": "code",
   "execution_count": null,
   "metadata": {},
   "outputs": [],
   "source": [
    "\n",
    "app = FastAPI()\n",
    "con = duckdb.connect()  # in-process, zero-config\n",
    "\n",
    "# Optionally register your Postgres raw table via postgres_scan:\n",
    "con.execute(\"\"\"\n",
    "    INSTALL httpfs; LOAD httpfs;\n",
    "  /* or: INSTALL postgres_scanner; LOAD postgres_scanner; */\n",
    "  /* then you can do: */\n",
    "  /* CREATE VIEW raw AS SELECT * FROM postgres_scan('host=…','public','raw'); */\n",
    "\"\"\")\n",
    "\n",
    "class Row(RootModel):\n",
    "    root: List[Any]\n",
    "\n",
    "class QueryResult(BaseModel):\n",
    "    columns: List[str]\n",
    "    rows: List[Row]\n",
    "\n",
    "@app.get(\"/resample\", response_model=QueryResult)\n",
    "def resample(\n",
    "    interval: int = Query(3, description=\"Resample interval in days\"),\n",
    "    limit: int = Query(50, description=\"Max rows back\")\n",
    "):\n",
    "    sql = f\"\"\"\n",
    "    WITH ranked AS (\n",
    "      SELECT *,\n",
    "        ROW_NUMBER() OVER (PARTITION BY symbol ORDER BY date) AS rn\n",
    "        FROM raw\n",
    "    ),\n",
    "    grp AS (\n",
    "      SELECT *,\n",
    "        (rn - 1) / {interval} AS grp_id\n",
    "        FROM ranked\n",
    "    )\n",
    "    SELECT\n",
    "        symbol,\n",
    "        MIN(date)   AS date,\n",
    "        FIRST(open) AS open,\n",
    "        MAX(high)   AS high,\n",
    "        MIN(low)    AS low,\n",
    "        LAST(close) AS close,\n",
    "        SUM(volume) AS volume\n",
    "    FROM grp\n",
    "    GROUP BY symbol, grp_id\n",
    "    ORDER BY symbol, date DESC\n",
    "    LIMIT {limit};\n",
    "    \"\"\"\n",
    "    # execute and grab both column names + native Python lists of tuples\n",
    "    cur = con.execute(sql)\n",
    "    cols = [c[0] for c in cur.description]\n",
    "    data = cur.fetchall()\n",
    "    return QueryResult(columns=cols, rows=[Row(root=list(r)) for r in data])"
   ]
  },
  {
   "cell_type": "markdown",
   "metadata": {},
   "source": []
  }
 ],
 "metadata": {
  "kernelspec": {
   "display_name": ".analytics",
   "language": "python",
   "name": "python3"
  },
  "language_info": {
   "codemirror_mode": {
    "name": "ipython",
    "version": 3
   },
   "file_extension": ".py",
   "mimetype": "text/x-python",
   "name": "python",
   "nbconvert_exporter": "python",
   "pygments_lexer": "ipython3",
   "version": "3.10.16"
  }
 },
 "nbformat": 4,
 "nbformat_minor": 2
}
