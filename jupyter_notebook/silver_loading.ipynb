{
 "cells": [
  {
   "cell_type": "markdown",
   "metadata": {},
   "source": [
    "## Library Import"
   ]
  },
  {
   "cell_type": "code",
   "execution_count": 1,
   "metadata": {},
   "outputs": [],
   "source": [
    "import duckdb\n",
    "import polars as pl\n",
    "import dotenv\n",
    "import os"
   ]
  },
  {
   "cell_type": "markdown",
   "metadata": {},
   "source": [
    "## Load Silver Data"
   ]
  },
  {
   "cell_type": "code",
   "execution_count": 2,
   "metadata": {},
   "outputs": [
    {
     "name": "stdout",
     "output_type": "stream",
     "text": [
      "Attempting to connect to: /Users/yiukitcheung/Desktop/data_pipeline/storage/silver/resampled.db\n",
      "Connection Succesfful!\n",
      "Test query result: (1,)\n",
      "\n",
      "Available tables: [('gold_data',), ('raw_data',), ('silver_1',), ('silver_13',), ('silver_2',), ('silver_21',), ('silver_3',), ('silver_34',), ('silver_5',), ('silver_55',), ('silver_8',)]\n"
     ]
    }
   ],
   "source": [
    "# Test connection to Silver Data db\n",
    "try:\n",
    "    db_path = os.getenv(\"DUCKDB_FILE\")\n",
    "    print(f\"Attempting to connect to: {db_path}\")\n",
    "    \n",
    "    # Try connection\n",
    "    con = duckdb.connect(os.getenv(\"DUCKDB_FILE\"))\n",
    "    \n",
    "    # Test Connection with a simple query\n",
    "    result = con.execute(\"SELECT 1\").fetchone()\n",
    "    print(\"Connection Succesfful!\")\n",
    "    print(f\"Test query result: {result}\")\n",
    "    \n",
    "    \n",
    "    # List all tables in the database\n",
    "    tables = con.execute(\"SHOW TABLES\").fetchall()\n",
    "    print(\"\\nAvailable tables:\", tables)\n",
    "    \n",
    "except Exception as e:\n",
    "    print(f\"Connection Failed {str(e)}\")"
   ]
  },
  {
   "cell_type": "code",
   "execution_count": 3,
   "metadata": {},
   "outputs": [
    {
     "name": "stdout",
     "output_type": "stream",
     "text": [
      "Available tables: [('gold_data',), ('raw_data',), ('silver_1',), ('silver_13',), ('silver_2',), ('silver_21',), ('silver_3',), ('silver_34',), ('silver_5',), ('silver_55',), ('silver_8',)]\n"
     ]
    }
   ],
   "source": [
    "# List all tables\n",
    "tables = con.execute(\"SHOW TABLES\").fetchall()\n",
    "print(\"Available tables:\", tables)"
   ]
  },
  {
   "cell_type": "code",
   "execution_count": 4,
   "metadata": {},
   "outputs": [
    {
     "name": "stdout",
     "output_type": "stream",
     "text": [
      "Table schema: [('symbol', 'VARCHAR', 'YES', None, None, None), ('date', 'TIMESTAMP WITH TIME ZONE', 'YES', None, None, None), ('open', 'DOUBLE', 'YES', None, None, None), ('high', 'DOUBLE', 'YES', None, None, None), ('low', 'DOUBLE', 'YES', None, None, None), ('close', 'DOUBLE', 'YES', None, None, None), ('volume', 'DOUBLE', 'YES', None, None, None)]\n"
     ]
    }
   ],
   "source": [
    "# Get schema information for a specific table\n",
    "# Replace 'your_table_name' with an actual table name\n",
    "table_info = con.execute(\"DESCRIBE silver_1\").fetchall()\n",
    "print(\"Table schema:\", table_info)"
   ]
  },
  {
   "cell_type": "code",
   "execution_count": 5,
   "metadata": {},
   "outputs": [
    {
     "name": "stdout",
     "output_type": "stream",
     "text": [
      "Sample data: [('TANH', datetime.datetime(2024, 11, 8, 0, 0, tzinfo=<DstTzInfo 'America/Edmonton' MST-1 day, 17:00:00 STD>), 6.4000000954, 6.4000000954, 5.8800001144, 6.0399999619, 81243.0), ('TANH', datetime.datetime(2024, 11, 25, 0, 0, tzinfo=<DstTzInfo 'America/Edmonton' MST-1 day, 17:00:00 STD>), 5.9600000381, 6.4000000954, 5.8800001144, 5.9600000381, 24653.0), ('TANH', datetime.datetime(2025, 1, 24, 0, 0, tzinfo=<DstTzInfo 'America/Edmonton' MST-1 day, 17:00:00 STD>), 6.4400000572, 6.8000001907, 6.2399997711, 6.6799998283, 45125.0), ('VATE', datetime.datetime(2009, 9, 17, 0, 0, tzinfo=<DstTzInfo 'America/Edmonton' MDT-1 day, 18:00:00 DST>), -4.8022216485, -4.9022679329, -4.8022216485, -4.9022679329, 2280.0), ('VATE', datetime.datetime(2009, 11, 16, 0, 0, tzinfo=<DstTzInfo 'America/Edmonton' MST-1 day, 17:00:00 STD>), -4.5687808242, -4.6021295893, -4.5087529451, -4.595459938, 2640.0)]\n"
     ]
    }
   ],
   "source": [
    "# Get sample data from the table\n",
    "sample_data = con.execute(\"SELECT * FROM silver_1 LIMIT 5\").fetchall()\n",
    "print(\"Sample data:\", sample_data)"
   ]
  },
  {
   "cell_type": "code",
   "execution_count": 6,
   "metadata": {},
   "outputs": [
    {
     "name": "stdout",
     "output_type": "stream",
     "text": [
      "Total rows: (6159779,)\n"
     ]
    }
   ],
   "source": [
    "# Get total row count\n",
    "row_count = con.execute(\"SELECT COUNT(*) FROM silver_1\").fetchone()\n",
    "print(\"Total rows:\", row_count)"
   ]
  },
  {
   "cell_type": "code",
   "execution_count": null,
   "metadata": {},
   "outputs": [],
   "source": [
    "# Get the first 5 rows of the table\n",
    "first_5_rows = con.execute(\"SELECT * FROM silver_1 LIMIT 5\").fetchall()\n",
    "print(\"First 5 rows:\", first_5_rows)\n",
    "# Get the last 5 rows of the table\n",
    "last_5_rows = con.execute(\"SELECT * FROM silver_1 ORDER BY date DESC LIMIT 5\").fetchall()\n",
    "print(\"Last 5 rows:\", last_5_rows)\n"
   ]
  },
  {
   "cell_type": "code",
   "execution_count": null,
   "metadata": {},
   "outputs": [],
   "source": [
    "# Get column statistics\n",
    "stats = con.execute(\"\"\"\n",
    "    SELECT \n",
    "        symbol,\n",
    "        COUNT(*) as count,\n",
    "        AVG(open) as avg,\n",
    "        MIN(open) as min,\n",
    "        MAX(open) as max\n",
    "    FROM silver_1\n",
    "    GROUP BY symbol\n",
    "\"\"\").fetchall()\n",
    "print(\"Column statistics:\", stats)"
   ]
  },
  {
   "cell_type": "code",
   "execution_count": null,
   "metadata": {},
   "outputs": [],
   "source": [
    "# Turn stats into a pl dataframe with mixed types allowed\n",
    "stats_df = pl.DataFrame(stats, \n",
    "                        schema={\n",
    "                            \"symbol\": pl.Utf8,\n",
    "                            \"count\": pl.Int64,\n",
    "                            \"avg\": pl.Float64,\n",
    "                            \"min\": pl.Float64,\n",
    "                            \"max\": pl.Float64\n",
    "                        })\n",
    "print(stats_df)"
   ]
  },
  {
   "cell_type": "code",
   "execution_count": 10,
   "metadata": {},
   "outputs": [],
   "source": [
    "con.close()\n"
   ]
  }
 ],
 "metadata": {
  "kernelspec": {
   "display_name": ".dp",
   "language": "python",
   "name": "python3"
  },
  "language_info": {
   "codemirror_mode": {
    "name": "ipython",
    "version": 3
   },
   "file_extension": ".py",
   "mimetype": "text/x-python",
   "name": "python",
   "nbconvert_exporter": "python",
   "pygments_lexer": "ipython3",
   "version": "3.10.17"
  }
 },
 "nbformat": 4,
 "nbformat_minor": 2
}
