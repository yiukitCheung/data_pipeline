{
 "cells": [
  {
   "cell_type": "markdown",
   "metadata": {},
   "source": [
    "## Library Import"
   ]
  },
  {
   "cell_type": "code",
   "execution_count": 2,
   "metadata": {},
   "outputs": [],
   "source": [
    "import duckdb\n",
    "import polars as pl\n",
    "import dotenv\n",
    "import os\n",
    "import sys\n",
    "sys.path.append(os.path.dirname(os.path.dirname(os.path.abspath('__file__'))))\n",
    "from config import load_setting\n",
    "settings = load_setting()\n",
    "import pandas as pd\n",
    "from tools.redis_client import RedisTools"
   ]
  },
  {
   "cell_type": "markdown",
   "metadata": {},
   "source": [
    "## Load Gold Data"
   ]
  },
  {
   "cell_type": "code",
   "execution_count": 3,
   "metadata": {},
   "outputs": [
    {
     "name": "stdout",
     "output_type": "stream",
     "text": [
      "Attempting to connect to: process/storage/gold/gold_data.parquet\n",
      "Connection Successful!\n",
      "Test query result: shape: (1_257, 5)\n",
      "┌────────────────────┬────────────────────┬────────────────────┬────────────────────┬──────────────┐\n",
      "│ accelerating       ┆ long_accelerating  ┆ long_accumulating  ┆ velocity_maintaine ┆ date         │\n",
      "│ ---                ┆ ---                ┆ ---                ┆ d                  ┆ ---          │\n",
      "│ list[str]          ┆ list[str]          ┆ list[str]          ┆ ---                ┆ list[date]   │\n",
      "│                    ┆                    ┆                    ┆ list[str]          ┆              │\n",
      "╞════════════════════╪════════════════════╪════════════════════╪════════════════════╪══════════════╡\n",
      "│ [\"AMED\", \"TFPM\", … ┆ [\"SANM\", \"FIHL\", … ┆ [\"FIHL\", \"MBINM\",  ┆ [\"VIV\", \"ACI\", …   ┆ [2025-05-30] │\n",
      "│ \"MIMI\"]            ┆ \"FITBI\"]           ┆ … \"FITBI\"]         ┆ \"MIMI\"]            ┆              │\n",
      "│ [\"NRXP\", \"DIS\", …  ┆ [\"DK\", \"HIW\", …    ┆ [\"HIW\", \"AARD\", …  ┆ [\"PLMR\", \"TAK\", …  ┆ [2025-05-29] │\n",
      "│ \"DORM\"]            ┆ \"ANAB\"]            ┆ \"ANAB\"]            ┆ \"SBS\"]             ┆              │\n",
      "│ [\"KC\", \"JOBY\", …   ┆ [\"MEGL\", \"DUOT\", … ┆ [\"K\", \"POET\", …    ┆ [\"FOX\", \"SHAK\", …  ┆ [2025-05-28] │\n",
      "│ \"HG\"]              ┆ \"MIMI\"]            ┆ \"PKBK\"]            ┆ \"ACNT\"]            ┆              │\n",
      "│ [\"MGEE\", \"MBCN\", … ┆ [\"FORD\", \"ALRS\", … ┆ [\"ALRS\", \"FIZZ\", … ┆ [\"CLST\", \"MGIC\", … ┆ [2025-05-27] │\n",
      "│ \"NTST\"]            ┆ \"KEN\"]             ┆ \"AAON\"]            ┆ \"MIDD\"]            ┆              │\n",
      "│ [\"CIM\", \"ADI\", …   ┆ [\"MIDD\", \"PKST\", … ┆ [\"CLST\", \"MIDD\", … ┆ [\"PODD\", \"AMBP\", … ┆ [2025-05-23] │\n",
      "│ \"HBM\"]             ┆ \"CLFD\"]            ┆ \"HIMX\"]            ┆ \"FN\"]              ┆              │\n",
      "│ …                  ┆ …                  ┆ …                  ┆ …                  ┆ …            │\n",
      "│ [\"SBUX\", \"HBIO\", … ┆ [\"SBSW\", \"BMY\", …  ┆ [\"SBSW\", \"BMY\", …  ┆ [\"JD\", \"TFX\", …    ┆ [2020-06-05] │\n",
      "│ \"BILL\"]            ┆ \"CLFD\"]            ┆ \"VNET\"]            ┆ \"DMAC\"]            ┆              │\n",
      "│ [\"PJT\", \"MBIN\", …  ┆ [\"HEI\", \"FLUT\", …  ┆ [\"AAMI\", \"TAK\", …  ┆ [\"DIOD\", \"TELA\", … ┆ [2020-06-04] │\n",
      "│ \"CLS\"]             ┆ \"CIVI\"]            ┆ \"CIVI\"]            ┆ \"NVMI\"]            ┆              │\n",
      "│ [\"ZYXI\", \"MED\", …  ┆ [\"DHR\", \"NVS\", …   ┆ [\"BHP\", \"CLS\", …   ┆ [\"ADSK\", \"PLL\", …  ┆ [2020-06-03] │\n",
      "│ \"NTLA\"]            ┆ \"ABAT\"]            ┆ \"FR\"]              ┆ \"CIEN\"]            ┆              │\n",
      "│ [\"FND\", \"FONR\", …  ┆ [\"NSC\", \"BILI\", …  ┆ [\"NSC\", \"ADN\", …   ┆ [\"VRSK\", \"CLLS\", … ┆ [2020-06-02] │\n",
      "│ \"BIIB\"]            ┆ \"DIOD\"]            ┆ \"VLGEA\"]           ┆ \"FF\"]              ┆              │\n",
      "│ [\"HCI\", \"AMP\", …   ┆ [\"BLK\", \"CHT\", …   ┆ [\"CHT\", \"CHY\", …   ┆ [\"SCCO\", \"DRS\", …  ┆ [2020-06-01] │\n",
      "│ \"CHY\"]             ┆ \"FICO\"]            ┆ \"ADI\"]             ┆ \"HASI\"]            ┆              │\n",
      "└────────────────────┴────────────────────┴────────────────────┴────────────────────┴──────────────┘\n"
     ]
    }
   ],
   "source": [
    "# Test connection to Gold Data parquet file\n",
    "try:\n",
    "    parquet_path = settings['process']['gold_data_path']\n",
    "    print(f\"Attempting to connect to: {parquet_path}\")\n",
    "    # Test Connection with a simple query\n",
    "    pl_df = pl.read_parquet(f\"../{parquet_path}\")\n",
    "    pl_df = pl_df.sort([\"date\"], descending=True)\n",
    "    print(\"Connection Successful!\")\n",
    "    print(f\"Test query result: {pl_df}\")\n",
    "    \n",
    "except FileNotFoundError as e:\n",
    "    print(f\"File not found: {str(e)}\")\n",
    "except Exception as e:\n",
    "    print(f\"Connection Failed: {str(e)}\")"
   ]
  },
  {
   "cell_type": "code",
   "execution_count": 4,
   "metadata": {},
   "outputs": [
    {
     "name": "stdout",
     "output_type": "stream",
     "text": [
      "Gold data file size: 2.90 MB\n",
      "Number of rows: 1257\n",
      "Number of columns: 5\n"
     ]
    }
   ],
   "source": [
    "# Get the size of the gold data\n",
    "# Get file size in bytes\n",
    "file_size_bytes = os.path.getsize(f\"../{settings['process']['gold_data_path']}\")\n",
    "\n",
    "# Convert to more readable format\n",
    "def convert_size(size_bytes):\n",
    "    \"\"\"Convert bytes to human readable format\"\"\"\n",
    "    for unit in ['B', 'KB', 'MB', 'GB']:\n",
    "        if size_bytes < 1024.0:\n",
    "            return f\"{size_bytes:.2f} {unit}\"\n",
    "        size_bytes /= 1024.0\n",
    "    return f\"{size_bytes:.2f} GB\"\n",
    "\n",
    "print(f\"Gold data file size: {convert_size(file_size_bytes)}\")\n",
    "print(f\"Number of rows: {len(pl_df)}\")\n",
    "print(f\"Number of columns: {len(pl_df.columns)}\")\n"
   ]
  },
  {
   "cell_type": "markdown",
   "metadata": {},
   "source": [
    "## Cache to Redis"
   ]
  },
  {
   "cell_type": "markdown",
   "metadata": {},
   "source": [
    "### Cache Stock of the Day"
   ]
  },
  {
   "cell_type": "code",
   "execution_count": 5,
   "metadata": {},
   "outputs": [
    {
     "name": "stdout",
     "output_type": "stream",
     "text": [
      "Successfully connected to Redis!\n",
      "['BLK', 'CHT', 'VATE', 'VKTX', 'CHY', 'CI', 'CHWY', 'FMS', 'NVMI', 'ABT', 'DSGX', 'KEN', 'ZG', 'AMP', 'ALRM', 'AMD', 'META', 'VIRT', 'ZBRA', 'AAON', 'HASI', 'SCL', 'PRGO', 'DKL', 'TAL', 'SWTX', 'DQ', 'APDN', 'BILI', 'CLW', 'VEEV', 'DRS', 'MBOT', 'NVAX', 'JD', 'FITBI', 'SCPH', 'CHPT', 'ANGI', 'CLLS', 'AAPL', 'MHLD', 'HMC', 'FR', 'BL', 'VERI', 'SCNX', 'IZEA', 'JOUT', 'AMRC', 'SFIX', 'XYZ', 'POWI', 'AAMI', 'FI', 'YUMC', 'ALTS', 'APD', 'FFIV', 'DT', 'TAK', 'DGX', 'YEXT', 'SBAC', 'VHC', 'VIVK', 'BLD', 'FMC', 'AMAT', 'SCNI', 'FF', 'FOLD', 'VIR', 'BIPC', 'MDB', 'VIVS', 'MBUU', 'TEL', 'DOMO', 'AMPH', 'MGNX', 'MCRI', 'ABUS', 'PODD', 'SYRE', 'NTES', 'SCCO', 'DOCU', 'TER', 'TFX', 'FLWS', 'BMY', 'HLF', 'MCK', 'SGRY', 'BLFS', 'TEAM', 'ZWS', 'SDGR', 'PRAA', 'VRNS', 'POWW', 'AMT', 'DKNG', 'K', 'MEIP', 'AMCR', 'TBPH', 'DRD', 'AMH', 'BLDP', 'ZTO', 'PRI', 'BKYI', 'PLD', 'ZM', 'AAP', 'JNPR', 'ADBE', 'VC', 'XYLO', 'ACM', 'NTLA', 'CLWT', 'CLS', 'BMRN', 'ACN', 'JOYY', 'ANSS', 'DLHC', 'DNLI', 'VCYT', 'CLDX', 'PLXS', 'MCO', 'BILL', 'MCFT', 'AME', 'KAI', 'PMTS', 'HCI', 'MC', 'CMI', 'AMBA', 'ZYXI', 'VRT', 'ANET', 'BMI', 'PROF', 'BIO', 'NXE', 'PKG', 'HMY', 'JHX', 'SEDG', 'VRME', 'MED', 'MHO', 'BLDR', 'KALA', 'AMTX', 'HOLX', 'SYK', 'HDSN', 'TFII', 'VRTX', 'MBRX', 'ZS', 'ITRM', 'SE', 'Z', 'CHRS', 'YMAB', 'SGMO', 'SAP', 'ACHC', 'HL', 'TECX', 'NSC', 'SBSW', 'ADAP', 'MCHP', 'KBH', 'VNET', 'AMSC', 'ANY', 'DKS', 'CHI', 'DOOO', 'MESO', 'SFM', 'PRGS', 'NTCT', 'BHP', 'TEVA', 'ADSK', 'NUS', 'FLGT', 'NRG', 'ADI', 'DVAX', 'PLUG', 'FICO', 'BLK', 'CHT', 'VATE', 'VKTX', 'CHY', 'CI', 'CHWY', 'FMS', 'NVMI', 'ABT', 'DSGX', 'KEN', 'ZG', 'AMP', 'ALRM', 'AMD', 'META', 'VIRT', 'ZBRA', 'AAON', 'HASI', 'SCL', 'PRGO', 'DKL', 'TAL', 'SWTX', 'DQ', 'APDN', 'BILI', 'CLW', 'VEEV', 'DRS', 'MBOT', 'NVAX', 'JD', 'FITBI', 'SCPH', 'CHPT', 'ANGI', 'CLLS', 'AAPL', 'MHLD', 'HMC', 'FR', 'BL', 'VERI', 'SCNX', 'IZEA', 'JOUT', 'AMRC', 'SFIX', 'XYZ', 'POWI', 'AAMI', 'FI', 'YUMC', 'ALTS', 'APD', 'FFIV', 'DT', 'TAK', 'DGX', 'YEXT', 'SBAC', 'VHC', 'VIVK', 'BLD', 'FMC', 'AMAT', 'SCNI', 'FF', 'FOLD', 'VIR', 'BIPC', 'MDB', 'VIVS', 'MBUU', 'TEL', 'DOMO', 'AMPH', 'MGNX', 'MCRI', 'ABUS', 'PODD', 'SYRE', 'NTES', 'SCCO', 'DOCU', 'TER', 'TFX', 'FLWS', 'BMY', 'HLF', 'MCK', 'SGRY', 'BLFS', 'TEAM', 'ZWS', 'SDGR', 'PRAA', 'VRNS', 'POWW', 'AMT', 'DKNG', 'K', 'MEIP', 'AMCR', 'TBPH', 'DRD', 'AMH', 'BLDP', 'ZTO', 'PRI', 'BKYI', 'PLD', 'ZM', 'AAP', 'JNPR', 'ADBE', 'VC', 'XYLO', 'ACM', 'NTLA', 'CLWT', 'CLS', 'BMRN', 'ACN', 'JOYY', 'ANSS', 'DLHC', 'DNLI', 'VCYT', 'CLDX', 'PLXS', 'MCO', 'BILL', 'MCFT', 'AME', 'KAI', 'PMTS', 'HCI', 'MC', 'CMI', 'AMBA', 'ZYXI', 'VRT', 'ANET', 'BMI', 'PROF', 'BIO', 'NXE', 'PKG', 'HMY', 'JHX', 'SEDG', 'VRME', 'MED', 'MHO', 'BLDR', 'KALA', 'AMTX', 'HOLX', 'SYK', 'HDSN', 'TFII', 'VRTX', 'MBRX', 'ZS', 'ITRM', 'SE', 'Z', 'CHRS', 'YMAB', 'SGMO', 'SAP', 'ACHC', 'HL', 'TECX', 'NSC', 'SBSW', 'ADAP', 'MCHP', 'KBH', 'VNET', 'AMSC', 'ANY', 'DKS', 'CHI', 'DOOO', 'MESO', 'SFM', 'PRGS', 'NTCT', 'BHP', 'TEVA', 'ADSK', 'NUS', 'FLGT', 'NRG', 'ADI', 'DVAX', 'PLUG', 'FICO']\n",
      "406\n"
     ]
    }
   ],
   "source": [
    "# Get the last row of the gold data\n",
    "veggas_channel_pick  = pl_df.tail(1).select([\"long_accelerating\"]).to_dicts()[0][\"long_accelerating\"]\n",
    "\n",
    "# Cache long-accelerating to Redis\n",
    "redis_client = RedisTools()\n",
    "redis_client.rpush(\"veggas_channel_pick\", *veggas_channel_pick)\n",
    "\n",
    "# Get long-accelerating from Redis\n",
    "veggas_channel_pick = redis_client.lrange(\"veggas_channel_pick\", 0, -1)\n",
    "print(veggas_channel_pick)\n",
    "print(len(veggas_channel_pick))"
   ]
  }
 ],
 "metadata": {
  "kernelspec": {
   "display_name": ".dp",
   "language": "python",
   "name": "python3"
  },
  "language_info": {
   "codemirror_mode": {
    "name": "ipython",
    "version": 3
   },
   "file_extension": ".py",
   "mimetype": "text/x-python",
   "name": "python",
   "nbconvert_exporter": "python",
   "pygments_lexer": "ipython3",
   "version": "3.10.16"
  }
 },
 "nbformat": 4,
 "nbformat_minor": 2
}
