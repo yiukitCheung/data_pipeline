{
 "cells": [
  {
   "cell_type": "markdown",
   "id": "ae92f371",
   "metadata": {},
   "source": [
    "# Library"
   ]
  },
  {
   "cell_type": "code",
   "execution_count": 1,
   "id": "e10b867b",
   "metadata": {},
   "outputs": [
    {
     "data": {
      "text/plain": [
       "True"
      ]
     },
     "execution_count": 1,
     "metadata": {},
     "output_type": "execute_result"
    }
   ],
   "source": [
    "import os\n",
    "import duckdb\n",
    "import boto3\n",
    "import pandas as pd\n",
    "import psycopg2\n",
    "from dotenv import load_dotenv\n",
    "import json\n",
    "load_dotenv()"
   ]
  },
  {
   "cell_type": "markdown",
   "id": "17cc839c",
   "metadata": {},
   "source": [
    "# Performance Evaluation"
   ]
  },
  {
   "cell_type": "markdown",
   "id": "a818626c",
   "metadata": {},
   "source": [
    "## Postgres"
   ]
  },
  {
   "cell_type": "markdown",
   "id": "2a12e800",
   "metadata": {},
   "source": [
    "### RDS Connection"
   ]
  },
  {
   "cell_type": "code",
   "execution_count": null,
   "id": "69051867",
   "metadata": {},
   "outputs": [],
   "source": [
    "# RDS Crendtials\n",
    "RDS_HOST = os.environ.get('RDS_HOST')\n",
    "RDS_PORT = os.environ.get('RDS_PORT')\n",
    "RDS_DATABASE = os.environ.get('RDS_DATABASE')\n",
    "RDS_USER = os.environ.get('RDS_USER')\n",
    "RDS_PASSWORD = os.environ.get('RDS_PASSWORD')\n",
    "# RDS Postgres Connection\n",
    "try:\n",
    "    rds_conn = psycopg2.connect(\n",
    "        host=RDS_HOST,\n",
    "        port=RDS_PORT,\n",
    "        database=RDS_DATABASE,\n",
    "        user=RDS_USER,\n",
    "        password=RDS_PASSWORD,\n",
    "        sslmode='require'\n",
    "    )\n",
    "except Exception as e:\n",
    "    print(f\"Error connecting to RDS: {e}\")\n",
    "    raise\n",
    "\n",
    "# RDS Postgres Cursor\n",
    "rds_cursor = rds_conn.cursor()"
   ]
  },
  {
   "cell_type": "code",
   "execution_count": null,
   "id": "a0f9626c",
   "metadata": {},
   "outputs": [
    {
     "name": "stdout",
     "output_type": "stream",
     "text": [
      "public.raw_ohlcv\n",
      "public.silver_13d\n",
      "public.silver_21d\n",
      "public.silver_34d\n",
      "public.silver_3d\n",
      "public.silver_5d\n",
      "public.silver_8d\n",
      "public.symbol_metadata\n"
     ]
    }
   ],
   "source": [
    "# Check available tables in the connected database\n",
    "try:\n",
    "    rds_cursor.execute(\"\"\"\n",
    "        SELECT table_schema, table_name \n",
    "        FROM information_schema.tables \n",
    "        WHERE table_type = 'BASE TABLE' AND table_schema NOT IN ('pg_catalog', 'information_schema')\n",
    "        ORDER BY table_schema, table_name\n",
    "    \"\"\")\n",
    "    tables = rds_cursor.fetchall()\n",
    "    for schema, table in tables:\n",
    "        print(f\"{schema}.{table}\")\n",
    "except Exception as e:\n",
    "    print(f\"Error fetching tables: {e}\")\n",
    "    raise"
   ]
  },
  {
   "cell_type": "markdown",
   "id": "676dca73",
   "metadata": {},
   "source": [
    "### Resample"
   ]
  },
  {
   "cell_type": "code",
   "execution_count": null,
   "id": "3be7686e",
   "metadata": {},
   "outputs": [
    {
     "name": "stdout",
     "output_type": "stream",
     "text": [
      "Resampling for AMD took 2.8069 seconds\n"
     ]
    }
   ],
   "source": [
    "import time\n",
    "\n",
    "start_time = time.time()\n",
    "try:\n",
    "    rds_cursor.execute(sql)\n",
    "    postgres_resampled_data = rds_cursor.fetchall()\n",
    "    end_time = time.time()\n",
    "    print(f\"Resampling for AMD took {end_time - start_time:.4f} seconds\")\n",
    "    postgres_resampled_data\n",
    "    postgres_resampling_time = end_time - start_time\n",
    "except Exception as e:\n",
    "    print(f\"Error resampling data: {e}\")\n",
    "    raise"
   ]
  },
  {
   "cell_type": "markdown",
   "id": "6ba864d8",
   "metadata": {},
   "source": [
    "### Query Testing"
   ]
  },
  {
   "cell_type": "code",
   "execution_count": null,
   "id": "cc3b92f5",
   "metadata": {},
   "outputs": [
    {
     "name": "stdout",
     "output_type": "stream",
     "text": [
      "Fetching symbol from Semiconductor industry took in past 5 years took 48.1419 seconds\n"
     ]
    }
   ],
   "source": [
    "import time\n",
    "# Resampling with Postgres for only symbol 'AMD' and timing the processing\n",
    "sql = f\"\"\"\n",
    "    WITH numbered AS (\n",
    "        SELECT\n",
    "            symbol,\n",
    "            DATE(timestamp) as date,\n",
    "            open as open,\n",
    "            high as high,\n",
    "            low as low,\n",
    "            close as close,\n",
    "            volume,\n",
    "            ROW_NUMBER() OVER (PARTITION BY symbol ORDER BY DATE(timestamp)) AS rn\n",
    "        FROM raw_ohlcv\n",
    "        WHERE interval = '1d'\n",
    "            AND symbol in ('AMD')\n",
    "    ),\n",
    "    grp AS (\n",
    "        SELECT\n",
    "            symbol,\n",
    "            date,\n",
    "            open,\n",
    "            high,\n",
    "            low,\n",
    "            close,\n",
    "            volume,\n",
    "            (rn - 1) / 3 AS grp_id\n",
    "        FROM numbered\n",
    "    ),\n",
    "    aggregated AS (\n",
    "        SELECT\n",
    "            symbol,\n",
    "            grp_id,\n",
    "            MIN(date) AS start_date,\n",
    "            MAX(high) AS high,\n",
    "            MIN(low) AS low,\n",
    "            SUM(volume) AS volume,\n",
    "            (array_agg(open ORDER BY date))[1] AS open,\n",
    "            (array_agg(close ORDER BY date DESC))[1] AS close\n",
    "        FROM grp\n",
    "        GROUP BY symbol, grp_id\n",
    "        HAVING COUNT(*) = 3\n",
    "    )\n",
    "    SELECT\n",
    "        symbol,\n",
    "        start_date AS date,\n",
    "        open,\n",
    "        high,\n",
    "        low,\n",
    "        close,\n",
    "        volume\n",
    "    FROM aggregated\n",
    "    ORDER BY symbol, date\n",
    "\"\"\"\n",
    "\n",
    "start_time = time.time()\n",
    "try:\n",
    "    rds_cursor.execute(\n",
    "        '''\n",
    "        SELECT ohlcv.* \n",
    "        FROM raw_ohlcv ohlcv\n",
    "        JOIN symbol_metadata meta ON ohlcv.symbol = meta.symbol\n",
    "        WHERE meta.industry = 'SEMICONDUCTORS & RELATED DEVICES'\n",
    "            AND ohlcv.timestamp >= NOW() - INTERVAL '5 years'\n",
    "        ORDER BY ohlcv.symbol, ohlcv.timestamp;\n",
    "        '''\n",
    "        )\n",
    "    \n",
    "    postgres_resampled_data = rds_cursor.fetchall()\n",
    "    end_time = time.time()\n",
    "    print(f\"Fetching symbol from Semiconductor industry took in past 5 years took {end_time - start_time:.4f} seconds\")\n",
    "    postgres_resampled_data\n",
    "except Exception as e:\n",
    "    print(f\"Error resampling data: {e}\")\n",
    "    raise"
   ]
  },
  {
   "cell_type": "markdown",
   "id": "50de132d",
   "metadata": {},
   "source": [
    "## DuckDB"
   ]
  },
  {
   "cell_type": "markdown",
   "id": "712ad3eb",
   "metadata": {},
   "source": [
    "### S3 Connection\n"
   ]
  },
  {
   "cell_type": "code",
   "execution_count": 2,
   "id": "2afa56c4",
   "metadata": {},
   "outputs": [],
   "source": [
    "import os   \n",
    "\n",
    "conn = duckdb.connect()"
   ]
  },
  {
   "cell_type": "code",
   "execution_count": 3,
   "id": "ac84df66",
   "metadata": {},
   "outputs": [
    {
     "name": "stdout",
     "output_type": "stream",
     "text": [
      "Data summary:\n",
      "Total rows: 22609541\n",
      "Time range: 1962-01-01 22:00:00-07:00 to 2025-10-02 22:00:00-06:00\n",
      "Unique symbols: 5350\n"
     ]
    }
   ],
   "source": [
    "# Test resampling logic with your migrated data using read_parquet\n",
    "try:\n",
    "    conn.execute(\"SET s3_region='ca-west-1'\")\n",
    "    conn.execute(f\"SET s3_access_key_id='{os.environ.get('AWS_ACCESS_KEY_ID')}'\")\n",
    "    conn.execute(f\"SET s3_secret_access_key='{os.environ.get('AWS_SECRET_ACCESS_KEY')}'\")\n",
    "\n",
    "\n",
    "    # Now create the view as before\n",
    "    conn.execute(\"\"\"\n",
    "        CREATE OR REPLACE VIEW s3_ohlcv AS\n",
    "        SELECT * FROM read_parquet('s3://dev-condvest-datalake/public/raw_ohlcv/*.parquet');\n",
    "    \"\"\")\n",
    "    \n",
    "    # Check the data structure first\n",
    "    result = conn.execute(\"\"\"\n",
    "        SELECT COUNT(*) as total_rows, \n",
    "            MIN(timestamp_1) as min_time, \n",
    "            MAX(timestamp_1) as max_time,\n",
    "            COUNT(DISTINCT symbol) as unique_symbols\n",
    "        FROM s3_ohlcv;\n",
    "    \"\"\").fetchall()\n",
    "    \n",
    "    print(\"Data summary:\")\n",
    "    for row in result:\n",
    "        print(f\"Total rows: {row[0]}\")\n",
    "        print(f\"Time range: {row[1]} to {row[2]}\")\n",
    "        print(f\"Unique symbols: {row[3]}\")\n",
    "    \n",
    "    \n",
    "except Exception as e:\n",
    "    print(f\"❌ Error in resampling: {e}\\n\")\n",
    "    print(\"Tip: Make sure you have set the correct AWS S3 region using DuckDB's SET s3_region statement.\")\n"
   ]
  },
  {
   "cell_type": "markdown",
   "id": "617c7f70",
   "metadata": {},
   "source": [
    "### Resample Processing"
   ]
  },
  {
   "cell_type": "code",
   "execution_count": 7,
   "id": "26746233",
   "metadata": {},
   "outputs": [],
   "source": [
    "# Resampling with DuckDB for selected symbols, using s3_ohlcv view from S3 parquet data\n",
    "sql = \"\"\"\n",
    "    WITH numbered AS (\n",
    "        SELECT\n",
    "            symbol,\n",
    "            CAST(timestamp_1 AS DATE) AS date,\n",
    "            open,\n",
    "            high,\n",
    "            low,\n",
    "            close,\n",
    "            volume,\n",
    "            ROW_NUMBER() OVER (PARTITION BY symbol ORDER BY CAST(timestamp_1 AS DATE)) AS rn\n",
    "        FROM s3_ohlcv\n",
    "        WHERE interval = '1d'\n",
    "        ORDER BY symbol, date\n",
    "    ),\n",
    "    grp AS (\n",
    "        SELECT\n",
    "            symbol,\n",
    "            date,\n",
    "            open,\n",
    "            high,\n",
    "            low,\n",
    "            close,\n",
    "            volume,\n",
    "            CAST(FLOOR((rn - 1) / 3) AS INTEGER) AS grp_id\n",
    "        FROM numbered\n",
    "    ),\n",
    "    aggregated AS (\n",
    "        SELECT\n",
    "            symbol,\n",
    "            grp_id,\n",
    "            MIN(date) AS start_date,\n",
    "            MAX(high) AS high,\n",
    "            MIN(low) AS low,\n",
    "            SUM(volume) AS volume,\n",
    "            FIRST(open ORDER BY date) AS open,\n",
    "            FIRST(close ORDER BY date DESC) AS close\n",
    "        FROM grp\n",
    "        GROUP BY symbol, grp_id\n",
    "        HAVING COUNT(*) = 3\n",
    "    )\n",
    "    SELECT\n",
    "        symbol,\n",
    "        start_date AS date,\n",
    "        open,\n",
    "        high,\n",
    "        low,\n",
    "        close,\n",
    "        volume\n",
    "    FROM aggregated\n",
    "    ORDER BY symbol, date\n",
    "\"\"\""
   ]
  },
  {
   "cell_type": "code",
   "execution_count": 6,
   "id": "f3432f1f",
   "metadata": {},
   "outputs": [
    {
     "name": "stdout",
     "output_type": "stream",
     "text": [
      "==================================================\n",
      "\n",
      "📊 DuckDB with S3 Data:\n",
      "✅ DuckDB resampling took: 47.1559 seconds\n",
      "✅ DuckDB processed 7534718 rows\n",
      "✅ DuckDB data shape: (7534718, 7)\n",
      "\n",
      "📊 PostgreSQL (from earlier test):\n",
      "❌ DuckDB error: name 'postgres_resampling_time' is not defined\n"
     ]
    }
   ],
   "source": [
    "# Performance Comparison: DuckDB vs PostgreSQL\n",
    "import time\n",
    "print(\"=\" * 50)\n",
    "\n",
    "# Test DuckDB performance with S3 data\n",
    "print(\"\\n📊 DuckDB with S3 Data:\")\n",
    "start_time = time.time()\n",
    "\n",
    "try:\n",
    "    # Test resampling performance\n",
    "    duckdb_result = conn.execute(sql).fetchdf()\n",
    "    \n",
    "    duckdb_time = time.time() - start_time\n",
    "    print(f\"✅ DuckDB resampling took: {duckdb_time:.4f} seconds\")\n",
    "    print(f\"✅ DuckDB processed {len(duckdb_result)} rows\")\n",
    "    print(f\"✅ DuckDB data shape: {duckdb_result.shape}\")\n",
    "    \n",
    "    # Compare with PostgreSQL (from earlier cells)\n",
    "    print(f\"\\n📊 PostgreSQL (from earlier test):\")\n",
    "    print(f\"✅ PostgreSQL resampling took: {postgres_resampling_time:.4f} seconds\")\n",
    "    print(f\"✅ PostgreSQL processed similar data\")\n",
    "\n",
    "    print(f\"\\n🏆 Performance Improvement:\")\n",
    "    if 'duckdb_time' in locals():\n",
    "        improvement = postgres_resampling_time / duckdb_time\n",
    "        print(f\"✅ DuckDB is {improvement:.1f}x faster than PostgreSQL!\")\n",
    "        print(f\"✅ Time saved: {postgres_resampling_time - duckdb_time:.4f} seconds\")\n",
    "except Exception as e:\n",
    "    print(f\"❌ DuckDB error: {e}\")\n"
   ]
  },
  {
   "cell_type": "code",
   "execution_count": 9,
   "id": "c6a51caf",
   "metadata": {},
   "outputs": [
    {
     "data": {
      "text/html": [
       "<div>\n",
       "<style scoped>\n",
       "    .dataframe tbody tr th:only-of-type {\n",
       "        vertical-align: middle;\n",
       "    }\n",
       "\n",
       "    .dataframe tbody tr th {\n",
       "        vertical-align: top;\n",
       "    }\n",
       "\n",
       "    .dataframe thead th {\n",
       "        text-align: right;\n",
       "    }\n",
       "</style>\n",
       "<table border=\"1\" class=\"dataframe\">\n",
       "  <thead>\n",
       "    <tr style=\"text-align: right;\">\n",
       "      <th></th>\n",
       "      <th>symbol</th>\n",
       "      <th>date</th>\n",
       "      <th>open</th>\n",
       "      <th>high</th>\n",
       "      <th>low</th>\n",
       "      <th>close</th>\n",
       "      <th>volume</th>\n",
       "    </tr>\n",
       "  </thead>\n",
       "  <tbody>\n",
       "    <tr>\n",
       "      <th>345400</th>\n",
       "      <td>AMD</td>\n",
       "      <td>1980-03-16</td>\n",
       "      <td>3.13</td>\n",
       "      <td>3.30</td>\n",
       "      <td>2.94</td>\n",
       "      <td>3.04</td>\n",
       "      <td>1242000.0</td>\n",
       "    </tr>\n",
       "    <tr>\n",
       "      <th>345401</th>\n",
       "      <td>AMD</td>\n",
       "      <td>1980-03-19</td>\n",
       "      <td>3.04</td>\n",
       "      <td>3.06</td>\n",
       "      <td>2.64</td>\n",
       "      <td>2.67</td>\n",
       "      <td>727200.0</td>\n",
       "    </tr>\n",
       "    <tr>\n",
       "      <th>345402</th>\n",
       "      <td>AMD</td>\n",
       "      <td>1980-03-24</td>\n",
       "      <td>2.67</td>\n",
       "      <td>2.75</td>\n",
       "      <td>2.24</td>\n",
       "      <td>2.38</td>\n",
       "      <td>2241600.0</td>\n",
       "    </tr>\n",
       "    <tr>\n",
       "      <th>345403</th>\n",
       "      <td>AMD</td>\n",
       "      <td>1980-03-27</td>\n",
       "      <td>2.46</td>\n",
       "      <td>2.77</td>\n",
       "      <td>2.46</td>\n",
       "      <td>2.74</td>\n",
       "      <td>1588800.0</td>\n",
       "    </tr>\n",
       "    <tr>\n",
       "      <th>345404</th>\n",
       "      <td>AMD</td>\n",
       "      <td>1980-04-01</td>\n",
       "      <td>2.74</td>\n",
       "      <td>2.74</td>\n",
       "      <td>2.53</td>\n",
       "      <td>2.54</td>\n",
       "      <td>865200.0</td>\n",
       "    </tr>\n",
       "    <tr>\n",
       "      <th>...</th>\n",
       "      <td>...</td>\n",
       "      <td>...</td>\n",
       "      <td>...</td>\n",
       "      <td>...</td>\n",
       "      <td>...</td>\n",
       "      <td>...</td>\n",
       "      <td>...</td>\n",
       "    </tr>\n",
       "    <tr>\n",
       "      <th>349222</th>\n",
       "      <td>AMD</td>\n",
       "      <td>2025-09-11</td>\n",
       "      <td>157.00</td>\n",
       "      <td>162.30</td>\n",
       "      <td>154.92</td>\n",
       "      <td>160.46</td>\n",
       "      <td>106988000.0</td>\n",
       "    </tr>\n",
       "    <tr>\n",
       "      <th>349223</th>\n",
       "      <td>AMD</td>\n",
       "      <td>2025-09-16</td>\n",
       "      <td>159.28</td>\n",
       "      <td>161.63</td>\n",
       "      <td>149.85</td>\n",
       "      <td>157.39</td>\n",
       "      <td>181821400.0</td>\n",
       "    </tr>\n",
       "    <tr>\n",
       "      <th>349224</th>\n",
       "      <td>AMD</td>\n",
       "      <td>2025-09-21</td>\n",
       "      <td>157.42</td>\n",
       "      <td>165.10</td>\n",
       "      <td>157.42</td>\n",
       "      <td>160.88</td>\n",
       "      <td>124417900.0</td>\n",
       "    </tr>\n",
       "    <tr>\n",
       "      <th>349225</th>\n",
       "      <td>AMD</td>\n",
       "      <td>2025-09-24</td>\n",
       "      <td>157.14</td>\n",
       "      <td>164.30</td>\n",
       "      <td>154.78</td>\n",
       "      <td>161.36</td>\n",
       "      <td>106955600.0</td>\n",
       "    </tr>\n",
       "    <tr>\n",
       "      <th>349226</th>\n",
       "      <td>AMD</td>\n",
       "      <td>2025-09-29</td>\n",
       "      <td>160.79</td>\n",
       "      <td>171.06</td>\n",
       "      <td>159.33</td>\n",
       "      <td>169.73</td>\n",
       "      <td>125039700.0</td>\n",
       "    </tr>\n",
       "  </tbody>\n",
       "</table>\n",
       "<p>3827 rows × 7 columns</p>\n",
       "</div>"
      ],
      "text/plain": [
       "       symbol       date    open    high     low   close       volume\n",
       "345400    AMD 1980-03-16    3.13    3.30    2.94    3.04    1242000.0\n",
       "345401    AMD 1980-03-19    3.04    3.06    2.64    2.67     727200.0\n",
       "345402    AMD 1980-03-24    2.67    2.75    2.24    2.38    2241600.0\n",
       "345403    AMD 1980-03-27    2.46    2.77    2.46    2.74    1588800.0\n",
       "345404    AMD 1980-04-01    2.74    2.74    2.53    2.54     865200.0\n",
       "...       ...        ...     ...     ...     ...     ...          ...\n",
       "349222    AMD 2025-09-11  157.00  162.30  154.92  160.46  106988000.0\n",
       "349223    AMD 2025-09-16  159.28  161.63  149.85  157.39  181821400.0\n",
       "349224    AMD 2025-09-21  157.42  165.10  157.42  160.88  124417900.0\n",
       "349225    AMD 2025-09-24  157.14  164.30  154.78  161.36  106955600.0\n",
       "349226    AMD 2025-09-29  160.79  171.06  159.33  169.73  125039700.0\n",
       "\n",
       "[3827 rows x 7 columns]"
      ]
     },
     "execution_count": 9,
     "metadata": {},
     "output_type": "execute_result"
    }
   ],
   "source": [
    "duckdb_result[duckdb_result['symbol'] == 'AMD']"
   ]
  },
  {
   "cell_type": "markdown",
   "id": "3e9f2330",
   "metadata": {},
   "source": [
    "### Plot the Reampled Result"
   ]
  },
  {
   "cell_type": "code",
   "execution_count": 7,
   "id": "4cc9180e",
   "metadata": {},
   "outputs": [
    {
     "data": {
      "application/vnd.plotly.v1+json": {
       "config": {
        "plotlyServerURL": "https://plot.ly"
       },
       "data": [
        {
         "close": {
          "bdata": "MzMzMzNbZECamZmZmZllQBSuR+F6/GRAXI/C9SiEY0DNzMzMzLxjQK5H4XoULmNAAAAAAADIZEDsUbgehbthQDMzMzMzI2JAMzMzMzNrYkB7FK5H4VphQBSuR+F6bGFAMzMzMzNLYUBI4XoUrgdhQI/C9Shcv2FAexSuR+FSYUDNzMzMzERgQFyPwvUorF9AuB6F61G4XUDD9Shcj5JfQFyPwvUonF5ASOF6FK5XX0D2KFyPwnVeQPYoXI/CBV1APQrXo3BdXkDD9Shcj8JeQHsUrkfhilxAzczMzMz8XEBxPQrXowBcQB+F61G4nltApHA9CtfzW0Bcj8L1KKxcQNejcD0KB1tAcT0K16PgWEAAAAAAADBZQKRwPQrXE1lAw/UoXI8yWUD2KFyPwiVaQClcj8L1yFpApHA9CtezXECuR+F6FM5ZQD0K16NwvVlAKVyPwvXoVEDNzMzMzCxWQMP1KFyP0ldApHA9CtdjVUCuR+F6FJ5XQKRwPQrXA1hAMzMzMzOzWEDXo3A9ChdZQEjhehSuB1tAj8L1KFy/XEBxPQrXo2BcQKRwPQrXk1tAUrgehetBXECkcD0K11NdQFyPwvUoDF1AKVyPwvVIXkApXI/C9ZhfQEjhehSuB2BAzczMzMzsYUDNzMzMzLxhQIXrUbgePWFAhetRuB5NYUBI4XoUrkdiQIXrUbgeDWRA16NwPQpXY0DXo3A9Cs9kQLgehetRcGZAKVyPwvUYZkDNzMzMzIxlQGZmZmZm3mVAuB6F61EwZkBmZmZmZqZkQOxRuB6Fa2RAw/UoXI8SZUBcj8L1KERkQIXrUbge7WJAPQrXo3B1Y0AfhetRuA5kQBSuR+F6rGNAXI/C9SgcZEDsUbgehStkQI/C9ShcN2VA",
          "dtype": "f8"
         },
         "high": {
          "bdata": "4XoUrkfZZEAzMzMzM7NlQJqZmZmZwWVAzczMzMwcZUCuR+F6FA5kQEjhehSul2NAuB6F61HwZECkcD0K1yNjQFyPwvUoNGJAH4XrUbjWYkBmZmZmZm5iQM3MzMzMnGFAcT0K16OYYUCamZmZmdlhQGZmZmZm7mFApHA9CtcDYkBxPQrXo/hgQArXo3A9imBAAAAAAADwX0BxPQrXo+BfQDMzMzMz019ApHA9CtdjX0AfhetRuHZgQD0K16NwrV1Aj8L1KFyvXkCamZmZmWlfQAAAAAAAUF9AXI/C9SgcXkBmZmZmZvZdQKRwPQrXI1xAZmZmZmamXEDXo3A9CgddQDMzMzMzI11AKVyPwvUoW0DsUbgehctZQPYoXI/CdVlArkfhehRuWUCamZmZmYlaQHE9CtejEFtAzczMzMy8XECamZmZmflcQFyPwvUoDFpAzczMzMzcWEAK16NwPXpYQEjhehSuV1hArkfhehSeVkAAAAAAALBXQI/C9ShcX1hAZmZmZmYGWUB7FK5H4dpZQHsUrkfhqltA4XoUrkehXkCPwvUoXI9dQGZmZmZmBl1Aw/UoXI/iXEDsUbgehWtdQDMzMzMz011ArkfhehQeX0AUrkfhegRgQFK4HoXrmWBA9ihcj8IFYkAAAAAAAHhiQI/C9Shch2FAzczMzMyUYUDD9Shcj3JiQB+F61G4PmRAw/UoXI8aZED2KFyPwuVkQFK4HoXryWZAAAAAAADQZkBI4XoUrj9mQArXo3A9WmZAzczMzMxUZ0CamZmZmVlmQClcj8L1EGVASOF6FK5fZUAK16NwPRJlQJqZmZmZQWRAKVyPwvWQZECamZmZmUlkQFyPwvUoNGRAMzMzMzOjZECamZmZmYlkQFK4HoXrYWVA",
          "dtype": "f8"
         },
         "low": {
          "bdata": "w/UoXI/CY0A9CtejcI1kQAAAAAAAQGRAPQrXo3BdY0DNzMzMzERjQHE9Ctej0GJAmpmZmZlhY0AK16NwPaphQNejcD0Kd2FAhetRuB4dYkBSuB6F61FhQM3MzMzMtGBA9ihcj8LdYEAfhetRuJ5gQClcj8L1+GBAzczMzMwsYUCuR+F6FI5fQEjhehSux15AzczMzMycXUCamZmZmXldQHE9CtejkF5AXI/C9SjcXUBI4XoUrgdeQArXo3A9mlxAPQrXo3BdXUC4HoXrUSheQDMzMzMzM1xAPQrXo3C9XEAAAAAAAKBaQMP1KFyPslpAXI/C9Sg8W0DNzMzMzOxbQB+F61G4/lpAAAAAAADgWEApXI/C9fhXQClcj8L1GFhAH4XrUbiuV0DhehSuR1FYQD0K16NwfVlAhetRuB4VWkAfhetRuJ5ZQDMzMzMzs1hAAAAAAABwU0AfhetRuB5TQAAAAAAAoFZAAAAAAADwVEB7FK5H4UpVQGZmZmZmNldASOF6FK73VkC4HoXrUThYQKRwPQrXY1lAAAAAAABAW0CF61G4HgVcQHsUrkfh6lpAuB6F61EIXEBI4XoUridbQD0K16NwrVxAw/UoXI/CXUCkcD0K18NcQOF6FK5HcV9AFK5H4Xq0X0C4HoXrUaBhQKRwPQrX42BAAAAAAACwYEAzMzMzM7NhQDMzMzMzG2NAexSuR+GqYkAAAAAAAIBjQD0K16NwFWVACtejcD3aZECamZmZmbljQAAAAAAAEGVAAAAAAAAIZkAAAAAAAMhjQNejcD0KN2RAzczMzMyUZECkcD0K15NjQNejcD0Kp2JA9ihcj8L9YkA9CtejcF1jQDMzMzMzu2JAPQrXo3CtY0ApXI/C9VhjQMP1KFyP6mNA",
          "dtype": "f8"
         },
         "name": "Candlestick",
         "open": {
          "bdata": "j8L1KFyPZEApXI/C9dBkQJqZmZmZwWVAcT0K16P4ZEAAAAAAAABkQDMzMzMzk2NAzczMzMxsY0C4HoXrUSBjQGZmZmZmtmFA9ihcj8JVYkAAAAAAAGBiQArXo3A9EmFAH4XrUbheYUBI4XoUro9hQEjhehSuB2FAH4XrUbjeYUAfhetRuPZgQAAAAAAAQGBAzczMzMwcX0AAAAAAAIBdQOF6FK5HYV9AZmZmZmbGXkAK16NwPSJgQOxRuB6Fi11AMzMzMzNjXUApXI/C9ZheQDMzMzMzI19A4XoUrkfxXEC4HoXrUXhcQOxRuB6Fu1tAH4XrUbg+W0CamZmZmSlcQHE9CtejwFxAKVyPwvX4WkCkcD0K1+NYQNejcD0KF1lAFK5H4XqkWECuR+F6FO5YQGZmZmZm9llAhetRuB5VWkDXo3A9CodcQI/C9ShcD1lAw/UoXI9yWECamZmZmYlVQHE9CtejoFZA16NwPQrnVUBI4XoUrodVQFK4HoXrUVdApHA9CtczV0AAAAAAAMBYQHsUrkfhellAZmZmZmZmW0AUrkfheoRdQGZmZmZmdlxA7FG4HoVLXECF61G4HuVbQArXo3A9Wl1A7FG4HoXLXUBI4XoUrideQOxRuB6F+19A16NwPQpPYEDXo3A9Cj9iQHE9CtejWGFAUrgehesRYUAAAAAAAOBhQAAAAAAAOGNAexSuR+HyY0AK16NwPYpjQMP1KFyPImVAcT0K16PAZkAK16NwPTJmQOF6FK5HwWVAhetRuB59ZkC4HoXrURhmQOxRuB6Fu2RAzczMzMwUZUBSuB6F69lkQK5H4XoU/mNASOF6FK7/YkAAAAAAAKBjQClcj8L16GNAPQrXo3CtY0AUrkfheqRjQOF6FK5HGWRA",
          "dtype": "f8"
         },
         "type": "candlestick",
         "x": [
          "2024-09-30T00:00:00",
          "2024-10-03T00:00:00",
          "2024-10-08T00:00:00",
          "2024-10-13T00:00:00",
          "2024-10-16T00:00:00",
          "2024-10-21T00:00:00",
          "2024-10-24T00:00:00",
          "2024-10-29T00:00:00",
          "2024-11-03T00:00:00",
          "2024-11-06T00:00:00",
          "2024-11-11T00:00:00",
          "2024-11-14T00:00:00",
          "2024-11-19T00:00:00",
          "2024-11-24T00:00:00",
          "2024-11-28T00:00:00",
          "2024-12-03T00:00:00",
          "2024-12-08T00:00:00",
          "2024-12-11T00:00:00",
          "2024-12-16T00:00:00",
          "2024-12-19T00:00:00",
          "2024-12-25T00:00:00",
          "2024-12-30T00:00:00",
          "2025-01-05T00:00:00",
          "2025-01-09T00:00:00",
          "2025-01-14T00:00:00",
          "2025-01-20T00:00:00",
          "2025-01-23T00:00:00",
          "2025-01-28T00:00:00",
          "2025-02-02T00:00:00",
          "2025-02-05T00:00:00",
          "2025-02-10T00:00:00",
          "2025-02-13T00:00:00",
          "2025-02-19T00:00:00",
          "2025-02-24T00:00:00",
          "2025-02-27T00:00:00",
          "2025-03-04T00:00:00",
          "2025-03-09T00:00:00",
          "2025-03-12T00:00:00",
          "2025-03-17T00:00:00",
          "2025-03-20T00:00:00",
          "2025-03-25T00:00:00",
          "2025-03-30T00:00:00",
          "2025-04-02T00:00:00",
          "2025-04-07T00:00:00",
          "2025-04-10T00:00:00",
          "2025-04-15T00:00:00",
          "2025-04-21T00:00:00",
          "2025-04-24T00:00:00",
          "2025-04-29T00:00:00",
          "2025-05-04T00:00:00",
          "2025-05-07T00:00:00",
          "2025-05-12T00:00:00",
          "2025-05-15T00:00:00",
          "2025-05-20T00:00:00",
          "2025-05-26T00:00:00",
          "2025-05-29T00:00:00",
          "2025-06-03T00:00:00",
          "2025-06-08T00:00:00",
          "2025-06-11T00:00:00",
          "2025-06-16T00:00:00",
          "2025-06-22T00:00:00",
          "2025-06-25T00:00:00",
          "2025-06-30T00:00:00",
          "2025-07-06T00:00:00",
          "2025-07-09T00:00:00",
          "2025-07-14T00:00:00",
          "2025-07-17T00:00:00",
          "2025-07-22T00:00:00",
          "2025-07-27T00:00:00",
          "2025-07-30T00:00:00",
          "2025-08-04T00:00:00",
          "2025-08-07T00:00:00",
          "2025-08-12T00:00:00",
          "2025-08-17T00:00:00",
          "2025-08-20T00:00:00",
          "2025-08-25T00:00:00",
          "2025-08-28T00:00:00",
          "2025-09-03T00:00:00",
          "2025-09-08T00:00:00",
          "2025-09-11T00:00:00",
          "2025-09-16T00:00:00",
          "2025-09-21T00:00:00",
          "2025-09-24T00:00:00",
          "2025-09-29T00:00:00"
         ],
         "xaxis": "x",
         "yaxis": "y"
        },
        {
         "marker": {
          "color": "lightblue"
         },
         "name": "Volume",
         "type": "bar",
         "x": [
          "2024-09-30T00:00:00",
          "2024-10-03T00:00:00",
          "2024-10-08T00:00:00",
          "2024-10-13T00:00:00",
          "2024-10-16T00:00:00",
          "2024-10-21T00:00:00",
          "2024-10-24T00:00:00",
          "2024-10-29T00:00:00",
          "2024-11-03T00:00:00",
          "2024-11-06T00:00:00",
          "2024-11-11T00:00:00",
          "2024-11-14T00:00:00",
          "2024-11-19T00:00:00",
          "2024-11-24T00:00:00",
          "2024-11-28T00:00:00",
          "2024-12-03T00:00:00",
          "2024-12-08T00:00:00",
          "2024-12-11T00:00:00",
          "2024-12-16T00:00:00",
          "2024-12-19T00:00:00",
          "2024-12-25T00:00:00",
          "2024-12-30T00:00:00",
          "2025-01-05T00:00:00",
          "2025-01-09T00:00:00",
          "2025-01-14T00:00:00",
          "2025-01-20T00:00:00",
          "2025-01-23T00:00:00",
          "2025-01-28T00:00:00",
          "2025-02-02T00:00:00",
          "2025-02-05T00:00:00",
          "2025-02-10T00:00:00",
          "2025-02-13T00:00:00",
          "2025-02-19T00:00:00",
          "2025-02-24T00:00:00",
          "2025-02-27T00:00:00",
          "2025-03-04T00:00:00",
          "2025-03-09T00:00:00",
          "2025-03-12T00:00:00",
          "2025-03-17T00:00:00",
          "2025-03-20T00:00:00",
          "2025-03-25T00:00:00",
          "2025-03-30T00:00:00",
          "2025-04-02T00:00:00",
          "2025-04-07T00:00:00",
          "2025-04-10T00:00:00",
          "2025-04-15T00:00:00",
          "2025-04-21T00:00:00",
          "2025-04-24T00:00:00",
          "2025-04-29T00:00:00",
          "2025-05-04T00:00:00",
          "2025-05-07T00:00:00",
          "2025-05-12T00:00:00",
          "2025-05-15T00:00:00",
          "2025-05-20T00:00:00",
          "2025-05-26T00:00:00",
          "2025-05-29T00:00:00",
          "2025-06-03T00:00:00",
          "2025-06-08T00:00:00",
          "2025-06-11T00:00:00",
          "2025-06-16T00:00:00",
          "2025-06-22T00:00:00",
          "2025-06-25T00:00:00",
          "2025-06-30T00:00:00",
          "2025-07-06T00:00:00",
          "2025-07-09T00:00:00",
          "2025-07-14T00:00:00",
          "2025-07-17T00:00:00",
          "2025-07-22T00:00:00",
          "2025-07-27T00:00:00",
          "2025-07-30T00:00:00",
          "2025-08-04T00:00:00",
          "2025-08-07T00:00:00",
          "2025-08-12T00:00:00",
          "2025-08-17T00:00:00",
          "2025-08-20T00:00:00",
          "2025-08-25T00:00:00",
          "2025-08-28T00:00:00",
          "2025-09-03T00:00:00",
          "2025-09-08T00:00:00",
          "2025-09-11T00:00:00",
          "2025-09-16T00:00:00",
          "2025-09-21T00:00:00",
          "2025-09-24T00:00:00",
          "2025-09-29T00:00:00"
         ],
         "xaxis": "x2",
         "y": {
          "bdata": "AAAAsMCElEEAAACgzA2cQQAAAChxBKJBAAAAICP3mkEAAACQpNuSQQAAAPAjBZRBAAAAsDBpoEEAAABoCWakQQAAACAAPpVBAAAAwCDslEEAAAAwN++XQQAAAHAKSZlBAAAAABoPk0EAAABA6jeWQQAAAGCVIZFBAAAAQAM+lUEAAABoyt+gQQAAACiLJ6FBAAAAAAyYoEEAAACwjhaeQQAAAOD1FJVBAAAAkH8jmEEAAADQfvCfQQAAANCmKKBBAAAAoPKkmEEAAADQKdKVQQAAAKB0wZ9BAAAAUGNVmkEAAABQdo6pQQAAAJDnVJ9BAAAAUL4kmEEAAABAliyWQQAAAPDOR5dBAAAAcFeQm0EAAAD43nygQQAAAND0epVBAAAAAPyFmUEAAACAMB+XQQAAAJASlJRBAAAAIGn8mkEAAADAUbeYQQAAAJDG7JFBAAAAqL9FpkEAAADQA8WrQQAAABAHF51BAAAAoE8tn0EAAABAKTuaQQAAAOB9ApNBAAAAkDlJlUEAAABgbrKlQQAAAPgCRaBBAAAAAMozpkEAAADwVUWaQQAAALAxuphBAAAAUHLblkEAAABAzpaZQQAAAFDi+JVBAAAAMG7ZnkEAAABApBmmQQAAAOBZxalBAAAAiPcGqkEAAACIIHGjQQAAAABVW51BAAAAcGFamkEAAADowJSiQQAAAMBZQahBAAAAyCBSoEEAAAAIthehQQAAACgmwqxBAAAAIPLap0EAAABov/KyQQAAAGAW3KZBAAAAkMP1qkEAAABI6CWjQQAAAKD9IpxBAAAAQCfpnUEAAAAQOn6ZQQAAAOgIJaJBAAAA+CMtoUEAAACAB4KZQQAAALC/rKVBAAAAsN2pnUEAAABADYCZQQAAAFDRz51B",
          "dtype": "f8"
         },
         "yaxis": "y2"
        }
       ],
       "layout": {
        "height": 700,
        "showlegend": false,
        "template": {
         "data": {
          "bar": [
           {
            "error_x": {
             "color": "#2a3f5f"
            },
            "error_y": {
             "color": "#2a3f5f"
            },
            "marker": {
             "line": {
              "color": "#E5ECF6",
              "width": 0.5
             },
             "pattern": {
              "fillmode": "overlay",
              "size": 10,
              "solidity": 0.2
             }
            },
            "type": "bar"
           }
          ],
          "barpolar": [
           {
            "marker": {
             "line": {
              "color": "#E5ECF6",
              "width": 0.5
             },
             "pattern": {
              "fillmode": "overlay",
              "size": 10,
              "solidity": 0.2
             }
            },
            "type": "barpolar"
           }
          ],
          "carpet": [
           {
            "aaxis": {
             "endlinecolor": "#2a3f5f",
             "gridcolor": "white",
             "linecolor": "white",
             "minorgridcolor": "white",
             "startlinecolor": "#2a3f5f"
            },
            "baxis": {
             "endlinecolor": "#2a3f5f",
             "gridcolor": "white",
             "linecolor": "white",
             "minorgridcolor": "white",
             "startlinecolor": "#2a3f5f"
            },
            "type": "carpet"
           }
          ],
          "choropleth": [
           {
            "colorbar": {
             "outlinewidth": 0,
             "ticks": ""
            },
            "type": "choropleth"
           }
          ],
          "contour": [
           {
            "colorbar": {
             "outlinewidth": 0,
             "ticks": ""
            },
            "colorscale": [
             [
              0,
              "#0d0887"
             ],
             [
              0.1111111111111111,
              "#46039f"
             ],
             [
              0.2222222222222222,
              "#7201a8"
             ],
             [
              0.3333333333333333,
              "#9c179e"
             ],
             [
              0.4444444444444444,
              "#bd3786"
             ],
             [
              0.5555555555555556,
              "#d8576b"
             ],
             [
              0.6666666666666666,
              "#ed7953"
             ],
             [
              0.7777777777777778,
              "#fb9f3a"
             ],
             [
              0.8888888888888888,
              "#fdca26"
             ],
             [
              1,
              "#f0f921"
             ]
            ],
            "type": "contour"
           }
          ],
          "contourcarpet": [
           {
            "colorbar": {
             "outlinewidth": 0,
             "ticks": ""
            },
            "type": "contourcarpet"
           }
          ],
          "heatmap": [
           {
            "colorbar": {
             "outlinewidth": 0,
             "ticks": ""
            },
            "colorscale": [
             [
              0,
              "#0d0887"
             ],
             [
              0.1111111111111111,
              "#46039f"
             ],
             [
              0.2222222222222222,
              "#7201a8"
             ],
             [
              0.3333333333333333,
              "#9c179e"
             ],
             [
              0.4444444444444444,
              "#bd3786"
             ],
             [
              0.5555555555555556,
              "#d8576b"
             ],
             [
              0.6666666666666666,
              "#ed7953"
             ],
             [
              0.7777777777777778,
              "#fb9f3a"
             ],
             [
              0.8888888888888888,
              "#fdca26"
             ],
             [
              1,
              "#f0f921"
             ]
            ],
            "type": "heatmap"
           }
          ],
          "histogram": [
           {
            "marker": {
             "pattern": {
              "fillmode": "overlay",
              "size": 10,
              "solidity": 0.2
             }
            },
            "type": "histogram"
           }
          ],
          "histogram2d": [
           {
            "colorbar": {
             "outlinewidth": 0,
             "ticks": ""
            },
            "colorscale": [
             [
              0,
              "#0d0887"
             ],
             [
              0.1111111111111111,
              "#46039f"
             ],
             [
              0.2222222222222222,
              "#7201a8"
             ],
             [
              0.3333333333333333,
              "#9c179e"
             ],
             [
              0.4444444444444444,
              "#bd3786"
             ],
             [
              0.5555555555555556,
              "#d8576b"
             ],
             [
              0.6666666666666666,
              "#ed7953"
             ],
             [
              0.7777777777777778,
              "#fb9f3a"
             ],
             [
              0.8888888888888888,
              "#fdca26"
             ],
             [
              1,
              "#f0f921"
             ]
            ],
            "type": "histogram2d"
           }
          ],
          "histogram2dcontour": [
           {
            "colorbar": {
             "outlinewidth": 0,
             "ticks": ""
            },
            "colorscale": [
             [
              0,
              "#0d0887"
             ],
             [
              0.1111111111111111,
              "#46039f"
             ],
             [
              0.2222222222222222,
              "#7201a8"
             ],
             [
              0.3333333333333333,
              "#9c179e"
             ],
             [
              0.4444444444444444,
              "#bd3786"
             ],
             [
              0.5555555555555556,
              "#d8576b"
             ],
             [
              0.6666666666666666,
              "#ed7953"
             ],
             [
              0.7777777777777778,
              "#fb9f3a"
             ],
             [
              0.8888888888888888,
              "#fdca26"
             ],
             [
              1,
              "#f0f921"
             ]
            ],
            "type": "histogram2dcontour"
           }
          ],
          "mesh3d": [
           {
            "colorbar": {
             "outlinewidth": 0,
             "ticks": ""
            },
            "type": "mesh3d"
           }
          ],
          "parcoords": [
           {
            "line": {
             "colorbar": {
              "outlinewidth": 0,
              "ticks": ""
             }
            },
            "type": "parcoords"
           }
          ],
          "pie": [
           {
            "automargin": true,
            "type": "pie"
           }
          ],
          "scatter": [
           {
            "fillpattern": {
             "fillmode": "overlay",
             "size": 10,
             "solidity": 0.2
            },
            "type": "scatter"
           }
          ],
          "scatter3d": [
           {
            "line": {
             "colorbar": {
              "outlinewidth": 0,
              "ticks": ""
             }
            },
            "marker": {
             "colorbar": {
              "outlinewidth": 0,
              "ticks": ""
             }
            },
            "type": "scatter3d"
           }
          ],
          "scattercarpet": [
           {
            "marker": {
             "colorbar": {
              "outlinewidth": 0,
              "ticks": ""
             }
            },
            "type": "scattercarpet"
           }
          ],
          "scattergeo": [
           {
            "marker": {
             "colorbar": {
              "outlinewidth": 0,
              "ticks": ""
             }
            },
            "type": "scattergeo"
           }
          ],
          "scattergl": [
           {
            "marker": {
             "colorbar": {
              "outlinewidth": 0,
              "ticks": ""
             }
            },
            "type": "scattergl"
           }
          ],
          "scattermap": [
           {
            "marker": {
             "colorbar": {
              "outlinewidth": 0,
              "ticks": ""
             }
            },
            "type": "scattermap"
           }
          ],
          "scattermapbox": [
           {
            "marker": {
             "colorbar": {
              "outlinewidth": 0,
              "ticks": ""
             }
            },
            "type": "scattermapbox"
           }
          ],
          "scatterpolar": [
           {
            "marker": {
             "colorbar": {
              "outlinewidth": 0,
              "ticks": ""
             }
            },
            "type": "scatterpolar"
           }
          ],
          "scatterpolargl": [
           {
            "marker": {
             "colorbar": {
              "outlinewidth": 0,
              "ticks": ""
             }
            },
            "type": "scatterpolargl"
           }
          ],
          "scatterternary": [
           {
            "marker": {
             "colorbar": {
              "outlinewidth": 0,
              "ticks": ""
             }
            },
            "type": "scatterternary"
           }
          ],
          "surface": [
           {
            "colorbar": {
             "outlinewidth": 0,
             "ticks": ""
            },
            "colorscale": [
             [
              0,
              "#0d0887"
             ],
             [
              0.1111111111111111,
              "#46039f"
             ],
             [
              0.2222222222222222,
              "#7201a8"
             ],
             [
              0.3333333333333333,
              "#9c179e"
             ],
             [
              0.4444444444444444,
              "#bd3786"
             ],
             [
              0.5555555555555556,
              "#d8576b"
             ],
             [
              0.6666666666666666,
              "#ed7953"
             ],
             [
              0.7777777777777778,
              "#fb9f3a"
             ],
             [
              0.8888888888888888,
              "#fdca26"
             ],
             [
              1,
              "#f0f921"
             ]
            ],
            "type": "surface"
           }
          ],
          "table": [
           {
            "cells": {
             "fill": {
              "color": "#EBF0F8"
             },
             "line": {
              "color": "white"
             }
            },
            "header": {
             "fill": {
              "color": "#C8D4E3"
             },
             "line": {
              "color": "white"
             }
            },
            "type": "table"
           }
          ]
         },
         "layout": {
          "annotationdefaults": {
           "arrowcolor": "#2a3f5f",
           "arrowhead": 0,
           "arrowwidth": 1
          },
          "autotypenumbers": "strict",
          "coloraxis": {
           "colorbar": {
            "outlinewidth": 0,
            "ticks": ""
           }
          },
          "colorscale": {
           "diverging": [
            [
             0,
             "#8e0152"
            ],
            [
             0.1,
             "#c51b7d"
            ],
            [
             0.2,
             "#de77ae"
            ],
            [
             0.3,
             "#f1b6da"
            ],
            [
             0.4,
             "#fde0ef"
            ],
            [
             0.5,
             "#f7f7f7"
            ],
            [
             0.6,
             "#e6f5d0"
            ],
            [
             0.7,
             "#b8e186"
            ],
            [
             0.8,
             "#7fbc41"
            ],
            [
             0.9,
             "#4d9221"
            ],
            [
             1,
             "#276419"
            ]
           ],
           "sequential": [
            [
             0,
             "#0d0887"
            ],
            [
             0.1111111111111111,
             "#46039f"
            ],
            [
             0.2222222222222222,
             "#7201a8"
            ],
            [
             0.3333333333333333,
             "#9c179e"
            ],
            [
             0.4444444444444444,
             "#bd3786"
            ],
            [
             0.5555555555555556,
             "#d8576b"
            ],
            [
             0.6666666666666666,
             "#ed7953"
            ],
            [
             0.7777777777777778,
             "#fb9f3a"
            ],
            [
             0.8888888888888888,
             "#fdca26"
            ],
            [
             1,
             "#f0f921"
            ]
           ],
           "sequentialminus": [
            [
             0,
             "#0d0887"
            ],
            [
             0.1111111111111111,
             "#46039f"
            ],
            [
             0.2222222222222222,
             "#7201a8"
            ],
            [
             0.3333333333333333,
             "#9c179e"
            ],
            [
             0.4444444444444444,
             "#bd3786"
            ],
            [
             0.5555555555555556,
             "#d8576b"
            ],
            [
             0.6666666666666666,
             "#ed7953"
            ],
            [
             0.7777777777777778,
             "#fb9f3a"
            ],
            [
             0.8888888888888888,
             "#fdca26"
            ],
            [
             1,
             "#f0f921"
            ]
           ]
          },
          "colorway": [
           "#636efa",
           "#EF553B",
           "#00cc96",
           "#ab63fa",
           "#FFA15A",
           "#19d3f3",
           "#FF6692",
           "#B6E880",
           "#FF97FF",
           "#FECB52"
          ],
          "font": {
           "color": "#2a3f5f"
          },
          "geo": {
           "bgcolor": "white",
           "lakecolor": "white",
           "landcolor": "#E5ECF6",
           "showlakes": true,
           "showland": true,
           "subunitcolor": "white"
          },
          "hoverlabel": {
           "align": "left"
          },
          "hovermode": "closest",
          "mapbox": {
           "style": "light"
          },
          "paper_bgcolor": "white",
          "plot_bgcolor": "#E5ECF6",
          "polar": {
           "angularaxis": {
            "gridcolor": "white",
            "linecolor": "white",
            "ticks": ""
           },
           "bgcolor": "#E5ECF6",
           "radialaxis": {
            "gridcolor": "white",
            "linecolor": "white",
            "ticks": ""
           }
          },
          "scene": {
           "xaxis": {
            "backgroundcolor": "#E5ECF6",
            "gridcolor": "white",
            "gridwidth": 2,
            "linecolor": "white",
            "showbackground": true,
            "ticks": "",
            "zerolinecolor": "white"
           },
           "yaxis": {
            "backgroundcolor": "#E5ECF6",
            "gridcolor": "white",
            "gridwidth": 2,
            "linecolor": "white",
            "showbackground": true,
            "ticks": "",
            "zerolinecolor": "white"
           },
           "zaxis": {
            "backgroundcolor": "#E5ECF6",
            "gridcolor": "white",
            "gridwidth": 2,
            "linecolor": "white",
            "showbackground": true,
            "ticks": "",
            "zerolinecolor": "white"
           }
          },
          "shapedefaults": {
           "line": {
            "color": "#2a3f5f"
           }
          },
          "ternary": {
           "aaxis": {
            "gridcolor": "white",
            "linecolor": "white",
            "ticks": ""
           },
           "baxis": {
            "gridcolor": "white",
            "linecolor": "white",
            "ticks": ""
           },
           "bgcolor": "#E5ECF6",
           "caxis": {
            "gridcolor": "white",
            "linecolor": "white",
            "ticks": ""
           }
          },
          "title": {
           "x": 0.05
          },
          "xaxis": {
           "automargin": true,
           "gridcolor": "white",
           "linecolor": "white",
           "ticks": "",
           "title": {
            "standoff": 15
           },
           "zerolinecolor": "white",
           "zerolinewidth": 2
          },
          "yaxis": {
           "automargin": true,
           "gridcolor": "white",
           "linecolor": "white",
           "ticks": "",
           "title": {
            "standoff": 15
           },
           "zerolinecolor": "white",
           "zerolinewidth": 2
          }
         }
        },
        "title": {
         "text": "Candlestick and Volume Chart for Last 365 Days"
        },
        "xaxis": {
         "anchor": "y",
         "domain": [
          0,
          1
         ],
         "matches": "x2",
         "rangeslider": {
          "visible": false
         },
         "showticklabels": false,
         "title": {
          "text": "Date"
         }
        },
        "xaxis2": {
         "anchor": "y2",
         "domain": [
          0,
          1
         ]
        },
        "yaxis": {
         "anchor": "x",
         "domain": [
          0.314,
          1
         ],
         "title": {
          "text": "Price"
         }
        },
        "yaxis2": {
         "anchor": "x2",
         "domain": [
          0,
          0.294
         ],
         "title": {
          "text": "Volume"
         }
        }
       }
      }
     },
     "metadata": {},
     "output_type": "display_data"
    }
   ],
   "source": [
    "# Plot the resampled data for last 100 days\n",
    "from plotly.subplots import make_subplots\n",
    "import plotly.graph_objects as go\n",
    "\n",
    "# Candle plot for last 100 days\n",
    "filtered_data = duckdb_result[(duckdb_result['symbol'] == 'AMD') & (duckdb_result['date'] >= (duckdb_result['date'].max() - pd.Timedelta(days=365)))]\n",
    "\n",
    "fig = make_subplots(\n",
    "    rows=2,\n",
    "    cols=1,\n",
    "    shared_xaxes=True,\n",
    "    vertical_spacing=0.02,\n",
    "    row_heights=[0.7, 0.3]  # Candlestick gets more height than volume\n",
    ")\n",
    "\n",
    "# Add candlestick trace to row=1, col=1\n",
    "fig.add_trace(\n",
    "    go.Candlestick(\n",
    "        x=filtered_data['date'],\n",
    "        open=filtered_data['open'],\n",
    "        high=filtered_data['high'],\n",
    "        low=filtered_data['low'],\n",
    "        close=filtered_data['close'],\n",
    "        name='Candlestick'\n",
    "    ),\n",
    "    row=1,\n",
    "    col=1\n",
    ")\n",
    "\n",
    "# Add volume trace to row=2, col=1\n",
    "fig.add_trace(\n",
    "    go.Bar(\n",
    "        x=filtered_data['date'],\n",
    "        y=filtered_data['volume'],\n",
    "        name='Volume',\n",
    "        marker_color='lightblue'\n",
    "    ),\n",
    "    row=2,\n",
    "    col=1\n",
    ")\n",
    "\n",
    "# Update y-axes titles individually\n",
    "fig.update_yaxes(title_text='Price', row=1, col=1)\n",
    "fig.update_yaxes(title_text='Volume', row=2, col=1)\n",
    "\n",
    "# General layout updates\n",
    "fig.update_layout(\n",
    "    title='Candlestick and Volume Chart for Last 365 Days',\n",
    "    xaxis=dict(title='Date', rangeslider_visible=False),\n",
    "    height=700,\n",
    "    showlegend=False\n",
    ")\n",
    "\n",
    "# Show the plot\n",
    "fig.show()"
   ]
  },
  {
   "cell_type": "code",
   "execution_count": null,
   "id": "526e6bed",
   "metadata": {},
   "outputs": [],
   "source": []
  },
  {
   "cell_type": "markdown",
   "id": "38cd5bf4",
   "metadata": {},
   "source": [
    "## Polars"
   ]
  },
  {
   "cell_type": "code",
   "execution_count": 7,
   "id": "02c638e8",
   "metadata": {},
   "outputs": [],
   "source": [
    "# import polars as pl\n",
    "\n",
    "# # Read from RDS\n",
    "# uri = f\"postgresql://{RDS_USER}:{RDS_PASSWORD}@{RDS_HOST}:{RDS_PORT}/{RDS_DATABASE}?sslmode=require\"\n",
    "# query = \"SELECT * FROM raw_ohlcv\"\n",
    "# pl.read_database_uri(query, uri)  "
   ]
  }
 ],
 "metadata": {
  "kernelspec": {
   "display_name": ".dp",
   "language": "python",
   "name": "python3"
  },
  "language_info": {
   "codemirror_mode": {
    "name": "ipython",
    "version": 3
   },
   "file_extension": ".py",
   "mimetype": "text/x-python",
   "name": "python",
   "nbconvert_exporter": "python",
   "pygments_lexer": "ipython3",
   "version": "3.10.16"
  }
 },
 "nbformat": 4,
 "nbformat_minor": 5
}
