{
 "cells": [
  {
   "cell_type": "markdown",
   "id": "ae92f371",
   "metadata": {},
   "source": [
    "# Library"
   ]
  },
  {
   "cell_type": "code",
   "execution_count": 19,
   "id": "e10b867b",
   "metadata": {},
   "outputs": [
    {
     "data": {
      "text/plain": [
       "True"
      ]
     },
     "execution_count": 19,
     "metadata": {},
     "output_type": "execute_result"
    }
   ],
   "source": [
    "import os\n",
    "import duckdb\n",
    "import boto3\n",
    "import pandas as pd\n",
    "import psycopg2\n",
    "from dotenv import load_dotenv\n",
    "import json\n",
    "\n",
    "load_dotenv()"
   ]
  },
  {
   "cell_type": "markdown",
   "id": "8d350846",
   "metadata": {},
   "source": [
    "# Data Import"
   ]
  },
  {
   "cell_type": "code",
   "execution_count": 20,
   "id": "213779e6",
   "metadata": {},
   "outputs": [],
   "source": [
    "# RDS Crendtials\n",
    "RDS_HOST = os.environ.get('RDS_HOST')\n",
    "RDS_PORT = os.environ.get('RDS_PORT')\n",
    "RDS_DATABASE = os.environ.get('RDS_DATABASE')\n",
    "RDS_USER = os.environ.get('RDS_USER')\n",
    "RDS_PASSWORD = os.environ.get('RDS_PASSWORD')\n",
    "# RDS Postgres Connection\n",
    "try:\n",
    "    rds_conn = psycopg2.connect(\n",
    "        host=RDS_HOST,\n",
    "        port=RDS_PORT,\n",
    "        database=RDS_DATABASE,\n",
    "        user=RDS_USER,\n",
    "        password=RDS_PASSWORD,\n",
    "        sslmode='require'\n",
    "    )\n",
    "except Exception as e:\n",
    "    print(f\"Error connecting to RDS: {e}\")\n",
    "    raise\n",
    "\n",
    "# RDS Postgres Cursor\n",
    "rds_cursor = rds_conn.cursor()"
   ]
  },
  {
   "cell_type": "code",
   "execution_count": 21,
   "id": "2e45f5df",
   "metadata": {},
   "outputs": [
    {
     "name": "stdout",
     "output_type": "stream",
     "text": [
      "public.raw_ohlcv\n",
      "public.silver_13d\n",
      "public.silver_21d\n",
      "public.silver_34d\n",
      "public.silver_3d\n",
      "public.silver_5d\n",
      "public.silver_8d\n",
      "public.symbol_metadata\n"
     ]
    }
   ],
   "source": [
    "# Check available tables in the connected database\n",
    "try:\n",
    "    rds_cursor.execute(\"\"\"\n",
    "        SELECT table_schema, table_name \n",
    "        FROM information_schema.tables \n",
    "        WHERE table_type = 'BASE TABLE' AND table_schema NOT IN ('pg_catalog', 'information_schema')\n",
    "        ORDER BY table_schema, table_name\n",
    "    \"\"\")\n",
    "    tables = rds_cursor.fetchall()\n",
    "    for schema, table in tables:\n",
    "        print(f\"{schema}.{table}\")\n",
    "except Exception as e:\n",
    "    print(f\"Error fetching tables: {e}\")\n",
    "    raise"
   ]
  },
  {
   "cell_type": "markdown",
   "id": "827c6863",
   "metadata": {},
   "source": [
    "# Data Processing Query"
   ]
  },
  {
   "cell_type": "code",
   "execution_count": 22,
   "id": "3a0edc54",
   "metadata": {},
   "outputs": [],
   "source": [
    "# Resampling with Postgres for only symbol 'AMD' and timing the processing\n",
    "sql = f\"\"\"\n",
    "    WITH numbered AS (\n",
    "        SELECT\n",
    "            symbol,\n",
    "            DATE(timestamp) as date,\n",
    "            open as open,\n",
    "            high as high,\n",
    "            low as low,\n",
    "            close as close,\n",
    "            volume,\n",
    "            ROW_NUMBER() OVER (PARTITION BY symbol ORDER BY DATE(timestamp)) AS rn\n",
    "        FROM raw_ohlcv\n",
    "        WHERE interval = '1d'\n",
    "            AND symbol in ('AMD', 'AAPL', 'TSLA','NVDA')\n",
    "    ),\n",
    "    grp AS (\n",
    "        SELECT\n",
    "            symbol,\n",
    "            date,\n",
    "            open,\n",
    "            high,\n",
    "            low,\n",
    "            close,\n",
    "            volume,\n",
    "            (rn - 1) / 3 AS grp_id\n",
    "        FROM numbered\n",
    "    ),\n",
    "    aggregated AS (\n",
    "        SELECT\n",
    "            symbol,\n",
    "            grp_id,\n",
    "            MIN(date) AS start_date,\n",
    "            MAX(high) AS high,\n",
    "            MIN(low) AS low,\n",
    "            SUM(volume) AS volume,\n",
    "            (array_agg(open ORDER BY date))[1] AS open,\n",
    "            (array_agg(close ORDER BY date DESC))[1] AS close\n",
    "        FROM grp\n",
    "        GROUP BY symbol, grp_id\n",
    "        HAVING COUNT(*) = 3\n",
    "    )\n",
    "    SELECT\n",
    "        symbol,\n",
    "        start_date AS date,\n",
    "        open,\n",
    "        high,\n",
    "        low,\n",
    "        close,\n",
    "        volume\n",
    "    FROM aggregated\n",
    "    ORDER BY symbol, date\n",
    "\"\"\""
   ]
  },
  {
   "cell_type": "markdown",
   "id": "17cc839c",
   "metadata": {},
   "source": [
    "# Performance Evaluation"
   ]
  },
  {
   "cell_type": "markdown",
   "id": "a818626c",
   "metadata": {},
   "source": [
    "## Postgres"
   ]
  },
  {
   "cell_type": "code",
   "execution_count": 23,
   "id": "3be7686e",
   "metadata": {},
   "outputs": [
    {
     "name": "stdout",
     "output_type": "stream",
     "text": [
      "Resampling for AMD took 3.1968 seconds\n"
     ]
    }
   ],
   "source": [
    "import time\n",
    "\n",
    "start_time = time.time()\n",
    "try:\n",
    "    rds_cursor.execute(sql)\n",
    "    postgres_resampled_data = rds_cursor.fetchall()\n",
    "    end_time = time.time()\n",
    "    print(f\"Resampling for AMD took {end_time - start_time:.4f} seconds\")\n",
    "    postgres_resampled_data\n",
    "except Exception as e:\n",
    "    print(f\"Error resampling data: {e}\")\n",
    "    raise"
   ]
  },
  {
   "cell_type": "markdown",
   "id": "50de132d",
   "metadata": {},
   "source": [
    "## DuckDB"
   ]
  },
  {
   "cell_type": "markdown",
   "id": "6e6ac2e6",
   "metadata": {},
   "source": [
    "### Install Postgres Extension"
   ]
  },
  {
   "cell_type": "code",
   "execution_count": 24,
   "id": "269aa924",
   "metadata": {},
   "outputs": [
    {
     "data": {
      "text/plain": [
       "<duckdb.duckdb.DuckDBPyConnection at 0x107d0abf0>"
      ]
     },
     "execution_count": 24,
     "metadata": {},
     "output_type": "execute_result"
    }
   ],
   "source": [
    "# Initialize DuckDB Connection\n",
    "duckdb_con = duckdb.connect(\":default:\")\n",
    "# install postgres extension\n",
    "duckdb_con.execute('INSTALL postgres')\n",
    "# load postgres extension\n",
    "duckdb_con.execute('LOAD postgres')"
   ]
  },
  {
   "cell_type": "code",
   "execution_count": 25,
   "id": "fbd0ec40",
   "metadata": {},
   "outputs": [
    {
     "ename": "BinderException",
     "evalue": "Binder Error: Failed to attach database: database with name \"postgres\" already exists",
     "output_type": "error",
     "traceback": [
      "\u001b[0;31m---------------------------------------------------------------------------\u001b[0m",
      "\u001b[0;31mBinderException\u001b[0m                           Traceback (most recent call last)",
      "Cell \u001b[0;32mIn[25], line 8\u001b[0m\n\u001b[1;32m      3\u001b[0m postgres_uri \u001b[38;5;241m=\u001b[39m (\n\u001b[1;32m      4\u001b[0m     \u001b[38;5;124mf\u001b[39m\u001b[38;5;124m\"\u001b[39m\u001b[38;5;124mpostgresql://\u001b[39m\u001b[38;5;132;01m{\u001b[39;00mRDS_USER\u001b[38;5;132;01m}\u001b[39;00m\u001b[38;5;124m:\u001b[39m\u001b[38;5;132;01m{\u001b[39;00mRDS_PASSWORD\u001b[38;5;132;01m}\u001b[39;00m\u001b[38;5;124m@\u001b[39m\u001b[38;5;132;01m{\u001b[39;00mRDS_HOST\u001b[38;5;132;01m}\u001b[39;00m\u001b[38;5;124m:\u001b[39m\u001b[38;5;132;01m{\u001b[39;00mRDS_PORT\u001b[38;5;132;01m}\u001b[39;00m\u001b[38;5;124m/\u001b[39m\u001b[38;5;132;01m{\u001b[39;00mRDS_DATABASE\u001b[38;5;132;01m}\u001b[39;00m\u001b[38;5;124m?sslmode=require\u001b[39m\u001b[38;5;124m\"\u001b[39m\n\u001b[1;32m      5\u001b[0m )\n\u001b[1;32m      7\u001b[0m \u001b[38;5;66;03m# Attach Postgres to DuckDB using the URI\u001b[39;00m\n\u001b[0;32m----> 8\u001b[0m \u001b[43mduckdb_con\u001b[49m\u001b[38;5;241;43m.\u001b[39;49m\u001b[43mexecute\u001b[49m\u001b[43m(\u001b[49m\u001b[38;5;124;43mf\u001b[39;49m\u001b[38;5;124;43m\"\u001b[39;49m\u001b[38;5;124;43mATTACH \u001b[39;49m\u001b[38;5;124;43m'\u001b[39;49m\u001b[38;5;132;43;01m{\u001b[39;49;00m\u001b[43mpostgres_uri\u001b[49m\u001b[38;5;132;43;01m}\u001b[39;49;00m\u001b[38;5;124;43m'\u001b[39;49m\u001b[38;5;124;43m AS postgres (TYPE POSTGRES);\u001b[39;49m\u001b[38;5;124;43m\"\u001b[39;49m\u001b[43m)\u001b[49m\n\u001b[1;32m     10\u001b[0m \u001b[38;5;28mprint\u001b[39m(\u001b[38;5;124m\"\u001b[39m\u001b[38;5;124mSuccessfully attached RDS PostgreSQL to DuckDB as \u001b[39m\u001b[38;5;124m'\u001b[39m\u001b[38;5;124mpostgres\u001b[39m\u001b[38;5;124m'\u001b[39m\u001b[38;5;124m.\u001b[39m\u001b[38;5;124m\"\u001b[39m)\n",
      "\u001b[0;31mBinderException\u001b[0m: Binder Error: Failed to attach database: database with name \"postgres\" already exists"
     ]
    }
   ],
   "source": [
    "# Connect to Postgres\n",
    "# Construct a PostgreSQL URI\n",
    "postgres_uri = (\n",
    "    f\"postgresql://{RDS_USER}:{RDS_PASSWORD}@{RDS_HOST}:{RDS_PORT}/{RDS_DATABASE}?sslmode=require\"\n",
    ")\n",
    "\n",
    "# Attach Postgres to DuckDB using the URI\n",
    "duckdb_con.execute(f\"ATTACH '{postgres_uri}' AS postgres (TYPE POSTGRES);\")\n",
    "\n",
    "print(\"Successfully attached RDS PostgreSQL to DuckDB as 'postgres'.\")"
   ]
  },
  {
   "cell_type": "code",
   "execution_count": null,
   "id": "0411b49a",
   "metadata": {},
   "outputs": [],
   "source": [
    "# Execute SQL Query\n",
    "start_time = time.time()\n",
    "temp_dat = duckdb_con.execute(\n",
    "    '''\n",
    "    SELECT * \n",
    "    FROM postgres.public.raw_ohlcv \n",
    "    WHERE symbol in ('AMD', 'AAPL', 'TSLA','NVDA') \n",
    "    ORDER BY symbol, timestamp;\n",
    "    '''\n",
    "    )\n",
    "end_time = time.time()\n",
    "print(f\"Time taken to fetch data: {end_time - start_time:.4f} seconds\")"
   ]
  }
 ],
 "metadata": {
  "kernelspec": {
   "display_name": ".dp",
   "language": "python",
   "name": "python3"
  },
  "language_info": {
   "codemirror_mode": {
    "name": "ipython",
    "version": 3
   },
   "file_extension": ".py",
   "mimetype": "text/x-python",
   "name": "python",
   "nbconvert_exporter": "python",
   "pygments_lexer": "ipython3",
   "version": "3.10.16"
  }
 },
 "nbformat": 4,
 "nbformat_minor": 5
}
